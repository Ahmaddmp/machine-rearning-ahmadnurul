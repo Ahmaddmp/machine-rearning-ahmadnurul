{
  "nbformat": 4,
  "nbformat_minor": 0,
  "metadata": {
    "colab": {
      "provenance": [],
      "collapsed_sections": []
    },
    "kernelspec": {
      "name": "python3",
      "display_name": "Python 3"
    },
    "language_info": {
      "name": "python"
    }
  },
  "cells": [
    {
      "cell_type": "code",
      "execution_count": null,
      "metadata": {
        "id": "LoK3PGiFjxqG",
        "colab": {
          "base_uri": "https://localhost:8080/"
        },
        "outputId": "5a62f0fc-596c-4bb6-b06f-02084abca2e7"
      },
      "outputs": [
        {
          "output_type": "stream",
          "name": "stdout",
          "text": [
            "Mounted at /content/drive\n"
          ]
        }
      ],
      "source": [
        "from google.colab import drive \n",
        "drive.mount('/content/drive') "
      ]
    },
    {
      "cell_type": "code",
      "source": [
        "import pandas as pd\n",
        "\n",
        "path = '/content/drive/MyDrive/CSV/tahun-20192020-genap---data-sd-kec.-sukasari---dapodikdasmen.csv'\n",
        "\n",
        "df = pd.read_csv(path)\n",
        "df.describe()"
      ],
      "metadata": {
        "colab": {
          "base_uri": "https://localhost:8080/",
          "height": 300
        },
        "id": "3VenO-gIok5T",
        "outputId": "ae974ae9-fc31-431b-c923-cc35460f4fe9"
      },
      "execution_count": null,
      "outputs": [
        {
          "output_type": "execute_result",
          "data": {
            "text/plain": [
              "              No          NPSN  Peserta Didik  Rombongan Belajar       Guru  \\\n",
              "count  22.000000  2.200000e+01      22.000000          22.000000  22.000000   \n",
              "mean   11.500000  2.250383e+07     355.318182          13.136364  15.772727   \n",
              "std     6.493587  1.059403e+07     174.680221           5.175910   6.858653   \n",
              "min     1.000000  2.021986e+07     119.000000           6.000000   6.000000   \n",
              "25%     6.250000  2.024490e+07     212.750000          10.250000  11.250000   \n",
              "50%    11.500000  2.024592e+07     346.000000          12.000000  13.500000   \n",
              "75%    16.750000  2.024721e+07     495.500000          17.500000  20.750000   \n",
              "max    22.000000  6.993556e+07     730.000000          24.000000  31.000000   \n",
              "\n",
              "         Pegawai   R. Kelas     R. Lab  R. Perpus  \n",
              "count  22.000000  22.000000  22.000000  22.000000  \n",
              "mean    4.181818  12.454545   0.454545   1.181818  \n",
              "std     2.363137   4.876838   0.738549   0.588490  \n",
              "min     1.000000   5.000000   0.000000   0.000000  \n",
              "25%     2.250000   9.250000   0.000000   1.000000  \n",
              "50%     4.000000  12.000000   0.000000   1.000000  \n",
              "75%     5.000000  15.750000   1.000000   1.750000  \n",
              "max    11.000000  23.000000   2.000000   2.000000  "
            ],
            "text/html": [
              "\n",
              "  <div id=\"df-eacf9e22-30a1-406f-805c-cb3be5473358\">\n",
              "    <div class=\"colab-df-container\">\n",
              "      <div>\n",
              "<style scoped>\n",
              "    .dataframe tbody tr th:only-of-type {\n",
              "        vertical-align: middle;\n",
              "    }\n",
              "\n",
              "    .dataframe tbody tr th {\n",
              "        vertical-align: top;\n",
              "    }\n",
              "\n",
              "    .dataframe thead th {\n",
              "        text-align: right;\n",
              "    }\n",
              "</style>\n",
              "<table border=\"1\" class=\"dataframe\">\n",
              "  <thead>\n",
              "    <tr style=\"text-align: right;\">\n",
              "      <th></th>\n",
              "      <th>No</th>\n",
              "      <th>NPSN</th>\n",
              "      <th>Peserta Didik</th>\n",
              "      <th>Rombongan Belajar</th>\n",
              "      <th>Guru</th>\n",
              "      <th>Pegawai</th>\n",
              "      <th>R. Kelas</th>\n",
              "      <th>R. Lab</th>\n",
              "      <th>R. Perpus</th>\n",
              "    </tr>\n",
              "  </thead>\n",
              "  <tbody>\n",
              "    <tr>\n",
              "      <th>count</th>\n",
              "      <td>22.000000</td>\n",
              "      <td>2.200000e+01</td>\n",
              "      <td>22.000000</td>\n",
              "      <td>22.000000</td>\n",
              "      <td>22.000000</td>\n",
              "      <td>22.000000</td>\n",
              "      <td>22.000000</td>\n",
              "      <td>22.000000</td>\n",
              "      <td>22.000000</td>\n",
              "    </tr>\n",
              "    <tr>\n",
              "      <th>mean</th>\n",
              "      <td>11.500000</td>\n",
              "      <td>2.250383e+07</td>\n",
              "      <td>355.318182</td>\n",
              "      <td>13.136364</td>\n",
              "      <td>15.772727</td>\n",
              "      <td>4.181818</td>\n",
              "      <td>12.454545</td>\n",
              "      <td>0.454545</td>\n",
              "      <td>1.181818</td>\n",
              "    </tr>\n",
              "    <tr>\n",
              "      <th>std</th>\n",
              "      <td>6.493587</td>\n",
              "      <td>1.059403e+07</td>\n",
              "      <td>174.680221</td>\n",
              "      <td>5.175910</td>\n",
              "      <td>6.858653</td>\n",
              "      <td>2.363137</td>\n",
              "      <td>4.876838</td>\n",
              "      <td>0.738549</td>\n",
              "      <td>0.588490</td>\n",
              "    </tr>\n",
              "    <tr>\n",
              "      <th>min</th>\n",
              "      <td>1.000000</td>\n",
              "      <td>2.021986e+07</td>\n",
              "      <td>119.000000</td>\n",
              "      <td>6.000000</td>\n",
              "      <td>6.000000</td>\n",
              "      <td>1.000000</td>\n",
              "      <td>5.000000</td>\n",
              "      <td>0.000000</td>\n",
              "      <td>0.000000</td>\n",
              "    </tr>\n",
              "    <tr>\n",
              "      <th>25%</th>\n",
              "      <td>6.250000</td>\n",
              "      <td>2.024490e+07</td>\n",
              "      <td>212.750000</td>\n",
              "      <td>10.250000</td>\n",
              "      <td>11.250000</td>\n",
              "      <td>2.250000</td>\n",
              "      <td>9.250000</td>\n",
              "      <td>0.000000</td>\n",
              "      <td>1.000000</td>\n",
              "    </tr>\n",
              "    <tr>\n",
              "      <th>50%</th>\n",
              "      <td>11.500000</td>\n",
              "      <td>2.024592e+07</td>\n",
              "      <td>346.000000</td>\n",
              "      <td>12.000000</td>\n",
              "      <td>13.500000</td>\n",
              "      <td>4.000000</td>\n",
              "      <td>12.000000</td>\n",
              "      <td>0.000000</td>\n",
              "      <td>1.000000</td>\n",
              "    </tr>\n",
              "    <tr>\n",
              "      <th>75%</th>\n",
              "      <td>16.750000</td>\n",
              "      <td>2.024721e+07</td>\n",
              "      <td>495.500000</td>\n",
              "      <td>17.500000</td>\n",
              "      <td>20.750000</td>\n",
              "      <td>5.000000</td>\n",
              "      <td>15.750000</td>\n",
              "      <td>1.000000</td>\n",
              "      <td>1.750000</td>\n",
              "    </tr>\n",
              "    <tr>\n",
              "      <th>max</th>\n",
              "      <td>22.000000</td>\n",
              "      <td>6.993556e+07</td>\n",
              "      <td>730.000000</td>\n",
              "      <td>24.000000</td>\n",
              "      <td>31.000000</td>\n",
              "      <td>11.000000</td>\n",
              "      <td>23.000000</td>\n",
              "      <td>2.000000</td>\n",
              "      <td>2.000000</td>\n",
              "    </tr>\n",
              "  </tbody>\n",
              "</table>\n",
              "</div>\n",
              "      <button class=\"colab-df-convert\" onclick=\"convertToInteractive('df-eacf9e22-30a1-406f-805c-cb3be5473358')\"\n",
              "              title=\"Convert this dataframe to an interactive table.\"\n",
              "              style=\"display:none;\">\n",
              "        \n",
              "  <svg xmlns=\"http://www.w3.org/2000/svg\" height=\"24px\"viewBox=\"0 0 24 24\"\n",
              "       width=\"24px\">\n",
              "    <path d=\"M0 0h24v24H0V0z\" fill=\"none\"/>\n",
              "    <path d=\"M18.56 5.44l.94 2.06.94-2.06 2.06-.94-2.06-.94-.94-2.06-.94 2.06-2.06.94zm-11 1L8.5 8.5l.94-2.06 2.06-.94-2.06-.94L8.5 2.5l-.94 2.06-2.06.94zm10 10l.94 2.06.94-2.06 2.06-.94-2.06-.94-.94-2.06-.94 2.06-2.06.94z\"/><path d=\"M17.41 7.96l-1.37-1.37c-.4-.4-.92-.59-1.43-.59-.52 0-1.04.2-1.43.59L10.3 9.45l-7.72 7.72c-.78.78-.78 2.05 0 2.83L4 21.41c.39.39.9.59 1.41.59.51 0 1.02-.2 1.41-.59l7.78-7.78 2.81-2.81c.8-.78.8-2.07 0-2.86zM5.41 20L4 18.59l7.72-7.72 1.47 1.35L5.41 20z\"/>\n",
              "  </svg>\n",
              "      </button>\n",
              "      \n",
              "  <style>\n",
              "    .colab-df-container {\n",
              "      display:flex;\n",
              "      flex-wrap:wrap;\n",
              "      gap: 12px;\n",
              "    }\n",
              "\n",
              "    .colab-df-convert {\n",
              "      background-color: #E8F0FE;\n",
              "      border: none;\n",
              "      border-radius: 50%;\n",
              "      cursor: pointer;\n",
              "      display: none;\n",
              "      fill: #1967D2;\n",
              "      height: 32px;\n",
              "      padding: 0 0 0 0;\n",
              "      width: 32px;\n",
              "    }\n",
              "\n",
              "    .colab-df-convert:hover {\n",
              "      background-color: #E2EBFA;\n",
              "      box-shadow: 0px 1px 2px rgba(60, 64, 67, 0.3), 0px 1px 3px 1px rgba(60, 64, 67, 0.15);\n",
              "      fill: #174EA6;\n",
              "    }\n",
              "\n",
              "    [theme=dark] .colab-df-convert {\n",
              "      background-color: #3B4455;\n",
              "      fill: #D2E3FC;\n",
              "    }\n",
              "\n",
              "    [theme=dark] .colab-df-convert:hover {\n",
              "      background-color: #434B5C;\n",
              "      box-shadow: 0px 1px 3px 1px rgba(0, 0, 0, 0.15);\n",
              "      filter: drop-shadow(0px 1px 2px rgba(0, 0, 0, 0.3));\n",
              "      fill: #FFFFFF;\n",
              "    }\n",
              "  </style>\n",
              "\n",
              "      <script>\n",
              "        const buttonEl =\n",
              "          document.querySelector('#df-eacf9e22-30a1-406f-805c-cb3be5473358 button.colab-df-convert');\n",
              "        buttonEl.style.display =\n",
              "          google.colab.kernel.accessAllowed ? 'block' : 'none';\n",
              "\n",
              "        async function convertToInteractive(key) {\n",
              "          const element = document.querySelector('#df-eacf9e22-30a1-406f-805c-cb3be5473358');\n",
              "          const dataTable =\n",
              "            await google.colab.kernel.invokeFunction('convertToInteractive',\n",
              "                                                     [key], {});\n",
              "          if (!dataTable) return;\n",
              "\n",
              "          const docLinkHtml = 'Like what you see? Visit the ' +\n",
              "            '<a target=\"_blank\" href=https://colab.research.google.com/notebooks/data_table.ipynb>data table notebook</a>'\n",
              "            + ' to learn more about interactive tables.';\n",
              "          element.innerHTML = '';\n",
              "          dataTable['output_type'] = 'display_data';\n",
              "          await google.colab.output.renderOutput(dataTable, element);\n",
              "          const docLink = document.createElement('div');\n",
              "          docLink.innerHTML = docLinkHtml;\n",
              "          element.appendChild(docLink);\n",
              "        }\n",
              "      </script>\n",
              "    </div>\n",
              "  </div>\n",
              "  "
            ]
          },
          "metadata": {},
          "execution_count": 3
        }
      ]
    },
    {
      "cell_type": "code",
      "source": [
        "df"
      ],
      "metadata": {
        "colab": {
          "base_uri": "https://localhost:8080/",
          "height": 739
        },
        "id": "xT1bzIZQo-oy",
        "outputId": "10fb293a-89ee-4cea-c562-8d4a52f8b2ea"
      },
      "execution_count": null,
      "outputs": [
        {
          "output_type": "execute_result",
          "data": {
            "text/plain": [
              "    No                             Nama Sekolah      NPSN  BP  Status  \\\n",
              "0    1      SDN 097 CIRATEUN KULON KOTA BANDUNG  20244855  SD  Negeri   \n",
              "1    2             SDN 100 CIPEDES KOTA BANDUNG  20245922  SD  Negeri   \n",
              "2    3          SDN 137 CIJEROKASO KOTA BANDUNG  20244848  SD  Negeri   \n",
              "3    4  SDN 138 GEGERKALONG GIRANG KOTA BANDUNG  20247203  SD  Negeri   \n",
              "4    5            SDN 139 SUKARASA KOTA BANDUNG  20244928  SD  Negeri   \n",
              "5    6            SDN 176 CILANDAK KOTA BANDUNG  20245918  SD  Negeri   \n",
              "6    7             SDN 177 CIPEDES KOTA BANDUNG  20245919  SD  Negeri   \n",
              "7    8    SDN 178 GEGERKALONG KPAD KOTA BANDUNG  20244861  SD  Negeri   \n",
              "8    9            SDN 179 SARIJADI KOTA BANDUNG  20244903  SD  Negeri   \n",
              "9   10               SDN 195 ISOLA KOTA BANDUNG  20244878  SD  Negeri   \n",
              "10  11            SDN 196 SUKARASA KOTA BANDUNG  20244929  SD  Negeri   \n",
              "11  12             SDN 212 HARAPAN KOTA BANDUNG  20245941  SD  Negeri   \n",
              "12  13            SDN 217 SARIJADI KOTA BANDUNG  20245971  SD  Negeri   \n",
              "13  14            SDN 218 SARIJADI KOTA BANDUNG  20244907  SD  Negeri   \n",
              "14  15           SDN 252 SETIABUDI KOTA BANDUNG  20244937  SD  Negeri   \n",
              "15  16                             SD BIANGLALA  20247206  SD  Swasta   \n",
              "16  17                     SD ISLAM AL AZHAR 30  20253348  SD  Swasta   \n",
              "17  18          SD LABORATORIUM PERCONTOHAN UPI  20252973  SD  Swasta   \n",
              "18  19                         SD MIFTAHUL IMAN  20219855  SD  Swasta   \n",
              "19  20                      SD PELITA NUSANTARA  20247253  SD  Swasta   \n",
              "20  21               SD SANTO ALOYSIUS SUKASARI  20247251  SD  Swasta   \n",
              "21  22            SD TEMASEK INDEPENDENT SCHOOL  69935556  SD  Swasta   \n",
              "\n",
              "    Peserta Didik  Rombongan Belajar  Guru  Pegawai  R. Kelas  R. Lab  \\\n",
              "0             335                 12    13        4         9       0   \n",
              "1             283                 11    13        5         5       0   \n",
              "2             500                 16    19        6        12       0   \n",
              "3             482                 18    20        4        18       0   \n",
              "4             287                 11    12        2         6       0   \n",
              "5             209                  6     6        5        11       0   \n",
              "6             297                 12    16        4        12       1   \n",
              "7             575                 18    21        7        15       0   \n",
              "8             379                 15    17        4        15       0   \n",
              "9             436                 15    21        4        10       0   \n",
              "10            730                 24    25        6        20       0   \n",
              "11            369                 12    14        4        12       0   \n",
              "12            143                  6     6        3         6       0   \n",
              "13            357                 12    13        4        12       0   \n",
              "14            562                 18    24       11        18       1   \n",
              "15            224                 10    11        2        11       0   \n",
              "16            592                 22    31        5        23       2   \n",
              "17            503                 19    26        7        16       2   \n",
              "18            145                  6     9        1         6       0   \n",
              "19            171                 11    11        2        17       1   \n",
              "20            119                  7    12        1         8       1   \n",
              "21            119                  8     7        1        12       2   \n",
              "\n",
              "    R. Perpus  \n",
              "0           1  \n",
              "1           1  \n",
              "2           1  \n",
              "3           2  \n",
              "4           1  \n",
              "5           1  \n",
              "6           1  \n",
              "7           1  \n",
              "8           2  \n",
              "9           1  \n",
              "10          0  \n",
              "11          2  \n",
              "12          1  \n",
              "13          2  \n",
              "14          1  \n",
              "15          1  \n",
              "16          1  \n",
              "17          2  \n",
              "18          0  \n",
              "19          1  \n",
              "20          1  \n",
              "21          2  "
            ],
            "text/html": [
              "\n",
              "  <div id=\"df-db0b5f02-09bd-43f8-9b74-acf855533f6f\">\n",
              "    <div class=\"colab-df-container\">\n",
              "      <div>\n",
              "<style scoped>\n",
              "    .dataframe tbody tr th:only-of-type {\n",
              "        vertical-align: middle;\n",
              "    }\n",
              "\n",
              "    .dataframe tbody tr th {\n",
              "        vertical-align: top;\n",
              "    }\n",
              "\n",
              "    .dataframe thead th {\n",
              "        text-align: right;\n",
              "    }\n",
              "</style>\n",
              "<table border=\"1\" class=\"dataframe\">\n",
              "  <thead>\n",
              "    <tr style=\"text-align: right;\">\n",
              "      <th></th>\n",
              "      <th>No</th>\n",
              "      <th>Nama Sekolah</th>\n",
              "      <th>NPSN</th>\n",
              "      <th>BP</th>\n",
              "      <th>Status</th>\n",
              "      <th>Peserta Didik</th>\n",
              "      <th>Rombongan Belajar</th>\n",
              "      <th>Guru</th>\n",
              "      <th>Pegawai</th>\n",
              "      <th>R. Kelas</th>\n",
              "      <th>R. Lab</th>\n",
              "      <th>R. Perpus</th>\n",
              "    </tr>\n",
              "  </thead>\n",
              "  <tbody>\n",
              "    <tr>\n",
              "      <th>0</th>\n",
              "      <td>1</td>\n",
              "      <td>SDN 097 CIRATEUN KULON KOTA BANDUNG</td>\n",
              "      <td>20244855</td>\n",
              "      <td>SD</td>\n",
              "      <td>Negeri</td>\n",
              "      <td>335</td>\n",
              "      <td>12</td>\n",
              "      <td>13</td>\n",
              "      <td>4</td>\n",
              "      <td>9</td>\n",
              "      <td>0</td>\n",
              "      <td>1</td>\n",
              "    </tr>\n",
              "    <tr>\n",
              "      <th>1</th>\n",
              "      <td>2</td>\n",
              "      <td>SDN 100 CIPEDES KOTA BANDUNG</td>\n",
              "      <td>20245922</td>\n",
              "      <td>SD</td>\n",
              "      <td>Negeri</td>\n",
              "      <td>283</td>\n",
              "      <td>11</td>\n",
              "      <td>13</td>\n",
              "      <td>5</td>\n",
              "      <td>5</td>\n",
              "      <td>0</td>\n",
              "      <td>1</td>\n",
              "    </tr>\n",
              "    <tr>\n",
              "      <th>2</th>\n",
              "      <td>3</td>\n",
              "      <td>SDN 137 CIJEROKASO KOTA BANDUNG</td>\n",
              "      <td>20244848</td>\n",
              "      <td>SD</td>\n",
              "      <td>Negeri</td>\n",
              "      <td>500</td>\n",
              "      <td>16</td>\n",
              "      <td>19</td>\n",
              "      <td>6</td>\n",
              "      <td>12</td>\n",
              "      <td>0</td>\n",
              "      <td>1</td>\n",
              "    </tr>\n",
              "    <tr>\n",
              "      <th>3</th>\n",
              "      <td>4</td>\n",
              "      <td>SDN 138 GEGERKALONG GIRANG KOTA BANDUNG</td>\n",
              "      <td>20247203</td>\n",
              "      <td>SD</td>\n",
              "      <td>Negeri</td>\n",
              "      <td>482</td>\n",
              "      <td>18</td>\n",
              "      <td>20</td>\n",
              "      <td>4</td>\n",
              "      <td>18</td>\n",
              "      <td>0</td>\n",
              "      <td>2</td>\n",
              "    </tr>\n",
              "    <tr>\n",
              "      <th>4</th>\n",
              "      <td>5</td>\n",
              "      <td>SDN 139 SUKARASA KOTA BANDUNG</td>\n",
              "      <td>20244928</td>\n",
              "      <td>SD</td>\n",
              "      <td>Negeri</td>\n",
              "      <td>287</td>\n",
              "      <td>11</td>\n",
              "      <td>12</td>\n",
              "      <td>2</td>\n",
              "      <td>6</td>\n",
              "      <td>0</td>\n",
              "      <td>1</td>\n",
              "    </tr>\n",
              "    <tr>\n",
              "      <th>5</th>\n",
              "      <td>6</td>\n",
              "      <td>SDN 176 CILANDAK KOTA BANDUNG</td>\n",
              "      <td>20245918</td>\n",
              "      <td>SD</td>\n",
              "      <td>Negeri</td>\n",
              "      <td>209</td>\n",
              "      <td>6</td>\n",
              "      <td>6</td>\n",
              "      <td>5</td>\n",
              "      <td>11</td>\n",
              "      <td>0</td>\n",
              "      <td>1</td>\n",
              "    </tr>\n",
              "    <tr>\n",
              "      <th>6</th>\n",
              "      <td>7</td>\n",
              "      <td>SDN 177 CIPEDES KOTA BANDUNG</td>\n",
              "      <td>20245919</td>\n",
              "      <td>SD</td>\n",
              "      <td>Negeri</td>\n",
              "      <td>297</td>\n",
              "      <td>12</td>\n",
              "      <td>16</td>\n",
              "      <td>4</td>\n",
              "      <td>12</td>\n",
              "      <td>1</td>\n",
              "      <td>1</td>\n",
              "    </tr>\n",
              "    <tr>\n",
              "      <th>7</th>\n",
              "      <td>8</td>\n",
              "      <td>SDN 178 GEGERKALONG KPAD KOTA BANDUNG</td>\n",
              "      <td>20244861</td>\n",
              "      <td>SD</td>\n",
              "      <td>Negeri</td>\n",
              "      <td>575</td>\n",
              "      <td>18</td>\n",
              "      <td>21</td>\n",
              "      <td>7</td>\n",
              "      <td>15</td>\n",
              "      <td>0</td>\n",
              "      <td>1</td>\n",
              "    </tr>\n",
              "    <tr>\n",
              "      <th>8</th>\n",
              "      <td>9</td>\n",
              "      <td>SDN 179 SARIJADI KOTA BANDUNG</td>\n",
              "      <td>20244903</td>\n",
              "      <td>SD</td>\n",
              "      <td>Negeri</td>\n",
              "      <td>379</td>\n",
              "      <td>15</td>\n",
              "      <td>17</td>\n",
              "      <td>4</td>\n",
              "      <td>15</td>\n",
              "      <td>0</td>\n",
              "      <td>2</td>\n",
              "    </tr>\n",
              "    <tr>\n",
              "      <th>9</th>\n",
              "      <td>10</td>\n",
              "      <td>SDN 195 ISOLA KOTA BANDUNG</td>\n",
              "      <td>20244878</td>\n",
              "      <td>SD</td>\n",
              "      <td>Negeri</td>\n",
              "      <td>436</td>\n",
              "      <td>15</td>\n",
              "      <td>21</td>\n",
              "      <td>4</td>\n",
              "      <td>10</td>\n",
              "      <td>0</td>\n",
              "      <td>1</td>\n",
              "    </tr>\n",
              "    <tr>\n",
              "      <th>10</th>\n",
              "      <td>11</td>\n",
              "      <td>SDN 196 SUKARASA KOTA BANDUNG</td>\n",
              "      <td>20244929</td>\n",
              "      <td>SD</td>\n",
              "      <td>Negeri</td>\n",
              "      <td>730</td>\n",
              "      <td>24</td>\n",
              "      <td>25</td>\n",
              "      <td>6</td>\n",
              "      <td>20</td>\n",
              "      <td>0</td>\n",
              "      <td>0</td>\n",
              "    </tr>\n",
              "    <tr>\n",
              "      <th>11</th>\n",
              "      <td>12</td>\n",
              "      <td>SDN 212 HARAPAN KOTA BANDUNG</td>\n",
              "      <td>20245941</td>\n",
              "      <td>SD</td>\n",
              "      <td>Negeri</td>\n",
              "      <td>369</td>\n",
              "      <td>12</td>\n",
              "      <td>14</td>\n",
              "      <td>4</td>\n",
              "      <td>12</td>\n",
              "      <td>0</td>\n",
              "      <td>2</td>\n",
              "    </tr>\n",
              "    <tr>\n",
              "      <th>12</th>\n",
              "      <td>13</td>\n",
              "      <td>SDN 217 SARIJADI KOTA BANDUNG</td>\n",
              "      <td>20245971</td>\n",
              "      <td>SD</td>\n",
              "      <td>Negeri</td>\n",
              "      <td>143</td>\n",
              "      <td>6</td>\n",
              "      <td>6</td>\n",
              "      <td>3</td>\n",
              "      <td>6</td>\n",
              "      <td>0</td>\n",
              "      <td>1</td>\n",
              "    </tr>\n",
              "    <tr>\n",
              "      <th>13</th>\n",
              "      <td>14</td>\n",
              "      <td>SDN 218 SARIJADI KOTA BANDUNG</td>\n",
              "      <td>20244907</td>\n",
              "      <td>SD</td>\n",
              "      <td>Negeri</td>\n",
              "      <td>357</td>\n",
              "      <td>12</td>\n",
              "      <td>13</td>\n",
              "      <td>4</td>\n",
              "      <td>12</td>\n",
              "      <td>0</td>\n",
              "      <td>2</td>\n",
              "    </tr>\n",
              "    <tr>\n",
              "      <th>14</th>\n",
              "      <td>15</td>\n",
              "      <td>SDN 252 SETIABUDI KOTA BANDUNG</td>\n",
              "      <td>20244937</td>\n",
              "      <td>SD</td>\n",
              "      <td>Negeri</td>\n",
              "      <td>562</td>\n",
              "      <td>18</td>\n",
              "      <td>24</td>\n",
              "      <td>11</td>\n",
              "      <td>18</td>\n",
              "      <td>1</td>\n",
              "      <td>1</td>\n",
              "    </tr>\n",
              "    <tr>\n",
              "      <th>15</th>\n",
              "      <td>16</td>\n",
              "      <td>SD BIANGLALA</td>\n",
              "      <td>20247206</td>\n",
              "      <td>SD</td>\n",
              "      <td>Swasta</td>\n",
              "      <td>224</td>\n",
              "      <td>10</td>\n",
              "      <td>11</td>\n",
              "      <td>2</td>\n",
              "      <td>11</td>\n",
              "      <td>0</td>\n",
              "      <td>1</td>\n",
              "    </tr>\n",
              "    <tr>\n",
              "      <th>16</th>\n",
              "      <td>17</td>\n",
              "      <td>SD ISLAM AL AZHAR 30</td>\n",
              "      <td>20253348</td>\n",
              "      <td>SD</td>\n",
              "      <td>Swasta</td>\n",
              "      <td>592</td>\n",
              "      <td>22</td>\n",
              "      <td>31</td>\n",
              "      <td>5</td>\n",
              "      <td>23</td>\n",
              "      <td>2</td>\n",
              "      <td>1</td>\n",
              "    </tr>\n",
              "    <tr>\n",
              "      <th>17</th>\n",
              "      <td>18</td>\n",
              "      <td>SD LABORATORIUM PERCONTOHAN UPI</td>\n",
              "      <td>20252973</td>\n",
              "      <td>SD</td>\n",
              "      <td>Swasta</td>\n",
              "      <td>503</td>\n",
              "      <td>19</td>\n",
              "      <td>26</td>\n",
              "      <td>7</td>\n",
              "      <td>16</td>\n",
              "      <td>2</td>\n",
              "      <td>2</td>\n",
              "    </tr>\n",
              "    <tr>\n",
              "      <th>18</th>\n",
              "      <td>19</td>\n",
              "      <td>SD MIFTAHUL IMAN</td>\n",
              "      <td>20219855</td>\n",
              "      <td>SD</td>\n",
              "      <td>Swasta</td>\n",
              "      <td>145</td>\n",
              "      <td>6</td>\n",
              "      <td>9</td>\n",
              "      <td>1</td>\n",
              "      <td>6</td>\n",
              "      <td>0</td>\n",
              "      <td>0</td>\n",
              "    </tr>\n",
              "    <tr>\n",
              "      <th>19</th>\n",
              "      <td>20</td>\n",
              "      <td>SD PELITA NUSANTARA</td>\n",
              "      <td>20247253</td>\n",
              "      <td>SD</td>\n",
              "      <td>Swasta</td>\n",
              "      <td>171</td>\n",
              "      <td>11</td>\n",
              "      <td>11</td>\n",
              "      <td>2</td>\n",
              "      <td>17</td>\n",
              "      <td>1</td>\n",
              "      <td>1</td>\n",
              "    </tr>\n",
              "    <tr>\n",
              "      <th>20</th>\n",
              "      <td>21</td>\n",
              "      <td>SD SANTO ALOYSIUS SUKASARI</td>\n",
              "      <td>20247251</td>\n",
              "      <td>SD</td>\n",
              "      <td>Swasta</td>\n",
              "      <td>119</td>\n",
              "      <td>7</td>\n",
              "      <td>12</td>\n",
              "      <td>1</td>\n",
              "      <td>8</td>\n",
              "      <td>1</td>\n",
              "      <td>1</td>\n",
              "    </tr>\n",
              "    <tr>\n",
              "      <th>21</th>\n",
              "      <td>22</td>\n",
              "      <td>SD TEMASEK INDEPENDENT SCHOOL</td>\n",
              "      <td>69935556</td>\n",
              "      <td>SD</td>\n",
              "      <td>Swasta</td>\n",
              "      <td>119</td>\n",
              "      <td>8</td>\n",
              "      <td>7</td>\n",
              "      <td>1</td>\n",
              "      <td>12</td>\n",
              "      <td>2</td>\n",
              "      <td>2</td>\n",
              "    </tr>\n",
              "  </tbody>\n",
              "</table>\n",
              "</div>\n",
              "      <button class=\"colab-df-convert\" onclick=\"convertToInteractive('df-db0b5f02-09bd-43f8-9b74-acf855533f6f')\"\n",
              "              title=\"Convert this dataframe to an interactive table.\"\n",
              "              style=\"display:none;\">\n",
              "        \n",
              "  <svg xmlns=\"http://www.w3.org/2000/svg\" height=\"24px\"viewBox=\"0 0 24 24\"\n",
              "       width=\"24px\">\n",
              "    <path d=\"M0 0h24v24H0V0z\" fill=\"none\"/>\n",
              "    <path d=\"M18.56 5.44l.94 2.06.94-2.06 2.06-.94-2.06-.94-.94-2.06-.94 2.06-2.06.94zm-11 1L8.5 8.5l.94-2.06 2.06-.94-2.06-.94L8.5 2.5l-.94 2.06-2.06.94zm10 10l.94 2.06.94-2.06 2.06-.94-2.06-.94-.94-2.06-.94 2.06-2.06.94z\"/><path d=\"M17.41 7.96l-1.37-1.37c-.4-.4-.92-.59-1.43-.59-.52 0-1.04.2-1.43.59L10.3 9.45l-7.72 7.72c-.78.78-.78 2.05 0 2.83L4 21.41c.39.39.9.59 1.41.59.51 0 1.02-.2 1.41-.59l7.78-7.78 2.81-2.81c.8-.78.8-2.07 0-2.86zM5.41 20L4 18.59l7.72-7.72 1.47 1.35L5.41 20z\"/>\n",
              "  </svg>\n",
              "      </button>\n",
              "      \n",
              "  <style>\n",
              "    .colab-df-container {\n",
              "      display:flex;\n",
              "      flex-wrap:wrap;\n",
              "      gap: 12px;\n",
              "    }\n",
              "\n",
              "    .colab-df-convert {\n",
              "      background-color: #E8F0FE;\n",
              "      border: none;\n",
              "      border-radius: 50%;\n",
              "      cursor: pointer;\n",
              "      display: none;\n",
              "      fill: #1967D2;\n",
              "      height: 32px;\n",
              "      padding: 0 0 0 0;\n",
              "      width: 32px;\n",
              "    }\n",
              "\n",
              "    .colab-df-convert:hover {\n",
              "      background-color: #E2EBFA;\n",
              "      box-shadow: 0px 1px 2px rgba(60, 64, 67, 0.3), 0px 1px 3px 1px rgba(60, 64, 67, 0.15);\n",
              "      fill: #174EA6;\n",
              "    }\n",
              "\n",
              "    [theme=dark] .colab-df-convert {\n",
              "      background-color: #3B4455;\n",
              "      fill: #D2E3FC;\n",
              "    }\n",
              "\n",
              "    [theme=dark] .colab-df-convert:hover {\n",
              "      background-color: #434B5C;\n",
              "      box-shadow: 0px 1px 3px 1px rgba(0, 0, 0, 0.15);\n",
              "      filter: drop-shadow(0px 1px 2px rgba(0, 0, 0, 0.3));\n",
              "      fill: #FFFFFF;\n",
              "    }\n",
              "  </style>\n",
              "\n",
              "      <script>\n",
              "        const buttonEl =\n",
              "          document.querySelector('#df-db0b5f02-09bd-43f8-9b74-acf855533f6f button.colab-df-convert');\n",
              "        buttonEl.style.display =\n",
              "          google.colab.kernel.accessAllowed ? 'block' : 'none';\n",
              "\n",
              "        async function convertToInteractive(key) {\n",
              "          const element = document.querySelector('#df-db0b5f02-09bd-43f8-9b74-acf855533f6f');\n",
              "          const dataTable =\n",
              "            await google.colab.kernel.invokeFunction('convertToInteractive',\n",
              "                                                     [key], {});\n",
              "          if (!dataTable) return;\n",
              "\n",
              "          const docLinkHtml = 'Like what you see? Visit the ' +\n",
              "            '<a target=\"_blank\" href=https://colab.research.google.com/notebooks/data_table.ipynb>data table notebook</a>'\n",
              "            + ' to learn more about interactive tables.';\n",
              "          element.innerHTML = '';\n",
              "          dataTable['output_type'] = 'display_data';\n",
              "          await google.colab.output.renderOutput(dataTable, element);\n",
              "          const docLink = document.createElement('div');\n",
              "          docLink.innerHTML = docLinkHtml;\n",
              "          element.appendChild(docLink);\n",
              "        }\n",
              "      </script>\n",
              "    </div>\n",
              "  </div>\n",
              "  "
            ]
          },
          "metadata": {},
          "execution_count": 5
        }
      ]
    },
    {
      "cell_type": "code",
      "source": [
        "import matplotlib.pyplot as plt\n",
        "\n",
        "df.plot(kind='scatter',x='Rombongan Belajar', y='Guru')\n",
        "\n",
        "plt.title('indexs kesejahtraan warga')\n",
        "plt.xlabel('Rombongan Belajar')\n",
        "plt.ylabel('Guru')\n",
        "plt.xlim(0, 25)\n",
        "plt.ylim(0, 31)\n",
        "plt.grid(True)\n",
        "plt.show()"
      ],
      "metadata": {
        "colab": {
          "base_uri": "https://localhost:8080/",
          "height": 295
        },
        "id": "1K9xp8h3pAYF",
        "outputId": "9bddcd92-d229-433c-d170-078584a42f54"
      },
      "execution_count": null,
      "outputs": [
        {
          "output_type": "display_data",
          "data": {
            "text/plain": [
              "<Figure size 432x288 with 1 Axes>"
            ],
            "image/png": "[encoded data removed]"
          },
          "metadata": {
            "needs_background": "light"
          }
        }
      ]
    },
    {
      "cell_type": "code",
      "source": [
        "import numpy as np\n",
        "x = np.array(df['Rombongan Belajar'])\n",
        "y = np.array(df['Guru'])\n",
        "\n",
        "print(f'x : {x}')\n",
        "print(f'y : {y}')"
      ],
      "metadata": {
        "colab": {
          "base_uri": "https://localhost:8080/"
        },
        "id": "xiH2eOmjputE",
        "outputId": "4387f81c-97ef-4b35-a361-040867e99356"
      },
      "execution_count": null,
      "outputs": [
        {
          "output_type": "stream",
          "name": "stdout",
          "text": [
            "x : [12 11 16 18 11  6 12 18 15 15 24 12  6 12 18 10 22 19  6 11  7  8]\n",
            "y : [13 13 19 20 12  6 16 21 17 21 25 14  6 13 24 11 31 26  9 11 12  7]\n"
          ]
        }
      ]
    },
    {
      "cell_type": "code",
      "source": [
        "x = x.reshape(-1, 1)\n",
        "x.shape"
      ],
      "metadata": {
        "colab": {
          "base_uri": "https://localhost:8080/"
        },
        "id": "cBTrQOekqXqO",
        "outputId": "708ce482-20d4-4ae2-c611-747aae92933b"
      },
      "execution_count": null,
      "outputs": [
        {
          "output_type": "execute_result",
          "data": {
            "text/plain": [
              "(22, 1)"
            ]
          },
          "metadata": {},
          "execution_count": 9
        }
      ]
    },
    {
      "cell_type": "code",
      "source": [
        "x"
      ],
      "metadata": {
        "colab": {
          "base_uri": "https://localhost:8080/"
        },
        "id": "S6omwdP9qYhi",
        "outputId": "2a9bbe24-4a33-4b25-f828-9e26a7b6b710"
      },
      "execution_count": null,
      "outputs": [
        {
          "output_type": "execute_result",
          "data": {
            "text/plain": [
              "array([[12],\n",
              "       [11],\n",
              "       [16],\n",
              "       [18],\n",
              "       [11],\n",
              "       [ 6],\n",
              "       [12],\n",
              "       [18],\n",
              "       [15],\n",
              "       [15],\n",
              "       [24],\n",
              "       [12],\n",
              "       [ 6],\n",
              "       [12],\n",
              "       [18],\n",
              "       [10],\n",
              "       [22],\n",
              "       [19],\n",
              "       [ 6],\n",
              "       [11],\n",
              "       [ 7],\n",
              "       [ 8]])"
            ]
          },
          "metadata": {},
          "execution_count": 10
        }
      ]
    },
    {
      "cell_type": "code",
      "source": [
        "from sklearn.linear_model import LinearRegression\n",
        "\n",
        "model = LinearRegression()\n",
        "model.fit(x, y)"
      ],
      "metadata": {
        "colab": {
          "base_uri": "https://localhost:8080/"
        },
        "id": "Mur6yGk-qbgx",
        "outputId": "0ae47ad6-eb37-41b7-e966-3f86550aafae"
      },
      "execution_count": null,
      "outputs": [
        {
          "output_type": "execute_result",
          "data": {
            "text/plain": [
              "LinearRegression()"
            ]
          },
          "metadata": {},
          "execution_count": 11
        }
      ]
    },
    {
      "cell_type": "code",
      "source": [
        "x_vis = np.array([0,25]).reshape(-1, 1)\n",
        "y_vis = model.predict(x_vis )"
      ],
      "metadata": {
        "id": "VLeEybReqb-L"
      },
      "execution_count": null,
      "outputs": []
    },
    {
      "cell_type": "code",
      "source": [
        "plt.scatter(x, y)\n",
        "plt.plot(x_vis, y_vis, '-r')\n",
        "plt.title('indexs kesejahtraan warga')\n",
        "plt.xlabel('Rombongan Belajar')\n",
        "plt.ylabel('Guru')\n",
        "plt.xlim(0, 25)\n",
        "plt.ylim(0, 30)\n",
        "plt.grid(True)\n",
        "plt.show()"
      ],
      "metadata": {
        "colab": {
          "base_uri": "https://localhost:8080/",
          "height": 295
        },
        "id": "3sdgo_J-ql1S",
        "outputId": "6f8d84bb-b47e-4409-9c83-755692fff288"
      },
      "execution_count": null,
      "outputs": [
        {
          "output_type": "display_data",
          "data": {
            "text/plain": [
              "<Figure size 432x288 with 1 Axes>"
            ],
            "image/png": "[encoded data removed]"
          },
          "metadata": {
            "needs_background": "light"
          }
        }
      ]
    },
    {
      "cell_type": "code",
      "source": [
        "print(f'intercept : {model.intercept_}')\n",
        "print(f'slope : {model.coef_}')"
      ],
      "metadata": {
        "colab": {
          "base_uri": "https://localhost:8080/"
        },
        "id": "8c5xmEPxqr9b",
        "outputId": "56396306-1535-42c3-b1b4-ebc257821cc2"
      },
      "execution_count": null,
      "outputs": [
        {
          "output_type": "stream",
          "name": "stdout",
          "text": [
            "intercept : -0.7047749858608654\n",
            "slope : [1.25434273]\n"
          ]
        }
      ]
    },
    {
      "cell_type": "code",
      "source": [
        "un= np.array([31, 48, 79, 97, 64]).reshape(-1, 1)\n",
        "un"
      ],
      "metadata": {
        "colab": {
          "base_uri": "https://localhost:8080/"
        },
        "id": "it10MY8L0FoT",
        "outputId": "418eaf4f-4e40-4521-9a21-a2604c2db350"
      },
      "execution_count": null,
      "outputs": [
        {
          "output_type": "execute_result",
          "data": {
            "text/plain": [
              "array([[31],\n",
              "       [48],\n",
              "       [79],\n",
              "       [97],\n",
              "       [64]])"
            ]
          },
          "metadata": {},
          "execution_count": 16
        }
      ]
    },
    {
      "cell_type": "code",
      "source": [
        "prediksi_indeks = model.predict(un)\n",
        "prediksi_indeks"
      ],
      "metadata": {
        "colab": {
          "base_uri": "https://localhost:8080/"
        },
        "id": "f2kZs4Vu0I7G",
        "outputId": "b628c3e7-6f0a-46f0-bb03-22c7c6c52c9b"
      },
      "execution_count": null,
      "outputs": [
        {
          "output_type": "execute_result",
          "data": {
            "text/plain": [
              "array([ 38.17984972,  59.50367617,  98.38830088, 120.96647007,\n",
              "        79.57315989])"
            ]
          },
          "metadata": {},
          "execution_count": 17
        }
      ]
    },
    {
      "cell_type": "code",
      "source": [
        "for penduduk, index in zip(un, prediksi_indeks):\n",
        "  print(f'lingkungan : {penduduk} prediksi indeks : {index}')"
      ],
      "metadata": {
        "colab": {
          "base_uri": "https://localhost:8080/"
        },
        "id": "heCx4dLA0LUF",
        "outputId": "da4694b0-f109-4030-83e5-3073a4ae0793"
      },
      "execution_count": null,
      "outputs": [
        {
          "output_type": "stream",
          "name": "stdout",
          "text": [
            "lingkungan : [31] prediksi indeks : 38.17984972125716\n",
            "lingkungan : [48] prediksi indeks : 59.503676173547696\n",
            "lingkungan : [79] prediksi indeks : 98.38830088066572\n",
            "lingkungan : [97] prediksi indeks : 120.96647006544393\n",
            "lingkungan : [64] prediksi indeks : 79.57315989335055\n"
          ]
        }
      ]
    },
    {
      "cell_type": "code",
      "source": [
        "print()\n",
        "import matplotlib.pyplot as plt\n",
        "fig = plt.figure()\n",
        "ax = fig.add_axes([0,0,1,1])\n",
        "jurusan = df [\"Rombongan Belajar\"]\n",
        "siswa = df [\"Guru\"]\n",
        "c = ['red','yellow','blue']\n",
        "plt.title(\"lingkungan\")\n",
        "ax.bar(jurusan,siswa,color=c)\n",
        "plt.show()\n",
        "print()\n",
        "import matplotlib.pyplot as plt\n",
        "fig = plt.figure()\n",
        "ax = fig.add_axes([0,0,1,1])\n",
        "ax.axis('equal')\n",
        "plt.title(\"lingkungan\")\n",
        "jurusan = df [\"Rombongan Belajar\"]\n",
        "siswa = df [\"Guru\"]\n",
        "ax.pie(siswa,labels=jurusan,autopct='%1.2f%%')\n",
        "\n",
        "plt.show()"
      ],
      "metadata": {
        "colab": {
          "base_uri": "https://localhost:8080/",
          "height": 707
        },
        "id": "AvOv-jab0OCU",
        "outputId": "49524dee-c71e-4f7d-9b00-9bf1cf6e9799"
      },
      "execution_count": null,
      "outputs": [
        {
          "output_type": "stream",
          "name": "stdout",
          "text": [
            "\n"
          ]
        },
        {
          "output_type": "display_data",
          "data": {
            "text/plain": [
              "<Figure size 432x288 with 1 Axes>"
            ],
            "image/png": "[encoded data removed]"
          },
          "metadata": {
            "needs_background": "light"
          }
        },
        {
          "output_type": "stream",
          "name": "stdout",
          "text": [
            "\n"
          ]
        },
        {
          "output_type": "display_data",
          "data": {
            "text/plain": [
              "<Figure size 432x288 with 1 Axes>"
            ],
            "image/png": "[encoded data removed]"
          },
          "metadata": {}
        }
      ]
    }
  ]
}