{
  "nbformat": 4,
  "nbformat_minor": 0,
  "metadata": {
    "colab": {
      "provenance": []
    },
    "kernelspec": {
      "name": "python3",
      "display_name": "Python 3"
    },
    "language_info": {
      "name": "python"
    }
  },
  "cells": [
    {
      "cell_type": "code",
      "execution_count": null,
      "metadata": {
        "colab": {
          "base_uri": "https://localhost:8080/"
        },
        "id": "e6f2z-LIjyrv",
        "outputId": "8cd31fb8-b00b-4a15-b47a-09298e5706a3"
      },
      "outputs": [
        {
          "output_type": "stream",
          "name": "stdout",
          "text": [
            "Mounted at /content/drive\n"
          ]
        }
      ],
      "source": [
        "from google.colab import drive \n",
        "drive.mount('/content/drive') "
      ]
    },
    {
      "cell_type": "code",
      "source": [
        "import pandas as pd\n",
        "\n",
        "path = '/content/drive/MyDrive/CSV/seh3 - Sheet1.csv'\n",
        "\n",
        "df = pd.read_csv(path)\n",
        "df.describe()"
      ],
      "metadata": {
        "colab": {
          "base_uri": "https://localhost:8080/",
          "height": 300
        },
        "id": "uNqqwUXVfwBM",
        "outputId": "8bdcf949-e81a-4f15-803a-3fad52699611"
      },
      "execution_count": null,
      "outputs": [
        {
          "output_type": "execute_result",
          "data": {
            "text/plain": [
              "       Jumlah Balita Terdaftar  Jumlah Balita Aktif  Jumlah Kader Aktif\n",
              "count                28.000000            28.000000           28.000000\n",
              "mean                 58.214286            54.714286            8.964286\n",
              "std                  18.712953            19.350294            2.645501\n",
              "min                  23.000000            21.000000            5.000000\n",
              "25%                  46.750000            41.000000            7.000000\n",
              "50%                  54.500000            50.500000            8.500000\n",
              "75%                  72.500000            70.000000           10.000000\n",
              "max                  96.000000            94.000000           16.000000"
            ],
            "text/html": [
              "\n",
              "  <div id=\"df-d922d7b4-b475-4320-8897-f4f9dbfc733c\">\n",
              "    <div class=\"colab-df-container\">\n",
              "      <div>\n",
              "<style scoped>\n",
              "    .dataframe tbody tr th:only-of-type {\n",
              "        vertical-align: middle;\n",
              "    }\n",
              "\n",
              "    .dataframe tbody tr th {\n",
              "        vertical-align: top;\n",
              "    }\n",
              "\n",
              "    .dataframe thead th {\n",
              "        text-align: right;\n",
              "    }\n",
              "</style>\n",
              "<table border=\"1\" class=\"dataframe\">\n",
              "  <thead>\n",
              "    <tr style=\"text-align: right;\">\n",
              "      <th></th>\n",
              "      <th>Jumlah Balita Terdaftar</th>\n",
              "      <th>Jumlah Balita Aktif</th>\n",
              "      <th>Jumlah Kader Aktif</th>\n",
              "    </tr>\n",
              "  </thead>\n",
              "  <tbody>\n",
              "    <tr>\n",
              "      <th>count</th>\n",
              "      <td>28.000000</td>\n",
              "      <td>28.000000</td>\n",
              "      <td>28.000000</td>\n",
              "    </tr>\n",
              "    <tr>\n",
              "      <th>mean</th>\n",
              "      <td>58.214286</td>\n",
              "      <td>54.714286</td>\n",
              "      <td>8.964286</td>\n",
              "    </tr>\n",
              "    <tr>\n",
              "      <th>std</th>\n",
              "      <td>18.712953</td>\n",
              "      <td>19.350294</td>\n",
              "      <td>2.645501</td>\n",
              "    </tr>\n",
              "    <tr>\n",
              "      <th>min</th>\n",
              "      <td>23.000000</td>\n",
              "      <td>21.000000</td>\n",
              "      <td>5.000000</td>\n",
              "    </tr>\n",
              "    <tr>\n",
              "      <th>25%</th>\n",
              "      <td>46.750000</td>\n",
              "      <td>41.000000</td>\n",
              "      <td>7.000000</td>\n",
              "    </tr>\n",
              "    <tr>\n",
              "      <th>50%</th>\n",
              "      <td>54.500000</td>\n",
              "      <td>50.500000</td>\n",
              "      <td>8.500000</td>\n",
              "    </tr>\n",
              "    <tr>\n",
              "      <th>75%</th>\n",
              "      <td>72.500000</td>\n",
              "      <td>70.000000</td>\n",
              "      <td>10.000000</td>\n",
              "    </tr>\n",
              "    <tr>\n",
              "      <th>max</th>\n",
              "      <td>96.000000</td>\n",
              "      <td>94.000000</td>\n",
              "      <td>16.000000</td>\n",
              "    </tr>\n",
              "  </tbody>\n",
              "</table>\n",
              "</div>\n",
              "      <button class=\"colab-df-convert\" onclick=\"convertToInteractive('df-d922d7b4-b475-4320-8897-f4f9dbfc733c')\"\n",
              "              title=\"Convert this dataframe to an interactive table.\"\n",
              "              style=\"display:none;\">\n",
              "        \n",
              "  <svg xmlns=\"http://www.w3.org/2000/svg\" height=\"24px\"viewBox=\"0 0 24 24\"\n",
              "       width=\"24px\">\n",
              "    <path d=\"M0 0h24v24H0V0z\" fill=\"none\"/>\n",
              "    <path d=\"M18.56 5.44l.94 2.06.94-2.06 2.06-.94-2.06-.94-.94-2.06-.94 2.06-2.06.94zm-11 1L8.5 8.5l.94-2.06 2.06-.94-2.06-.94L8.5 2.5l-.94 2.06-2.06.94zm10 10l.94 2.06.94-2.06 2.06-.94-2.06-.94-.94-2.06-.94 2.06-2.06.94z\"/><path d=\"M17.41 7.96l-1.37-1.37c-.4-.4-.92-.59-1.43-.59-.52 0-1.04.2-1.43.59L10.3 9.45l-7.72 7.72c-.78.78-.78 2.05 0 2.83L4 21.41c.39.39.9.59 1.41.59.51 0 1.02-.2 1.41-.59l7.78-7.78 2.81-2.81c.8-.78.8-2.07 0-2.86zM5.41 20L4 18.59l7.72-7.72 1.47 1.35L5.41 20z\"/>\n",
              "  </svg>\n",
              "      </button>\n",
              "      \n",
              "  <style>\n",
              "    .colab-df-container {\n",
              "      display:flex;\n",
              "      flex-wrap:wrap;\n",
              "      gap: 12px;\n",
              "    }\n",
              "\n",
              "    .colab-df-convert {\n",
              "      background-color: #E8F0FE;\n",
              "      border: none;\n",
              "      border-radius: 50%;\n",
              "      cursor: pointer;\n",
              "      display: none;\n",
              "      fill: #1967D2;\n",
              "      height: 32px;\n",
              "      padding: 0 0 0 0;\n",
              "      width: 32px;\n",
              "    }\n",
              "\n",
              "    .colab-df-convert:hover {\n",
              "      background-color: #E2EBFA;\n",
              "      box-shadow: 0px 1px 2px rgba(60, 64, 67, 0.3), 0px 1px 3px 1px rgba(60, 64, 67, 0.15);\n",
              "      fill: #174EA6;\n",
              "    }\n",
              "\n",
              "    [theme=dark] .colab-df-convert {\n",
              "      background-color: #3B4455;\n",
              "      fill: #D2E3FC;\n",
              "    }\n",
              "\n",
              "    [theme=dark] .colab-df-convert:hover {\n",
              "      background-color: #434B5C;\n",
              "      box-shadow: 0px 1px 3px 1px rgba(0, 0, 0, 0.15);\n",
              "      filter: drop-shadow(0px 1px 2px rgba(0, 0, 0, 0.3));\n",
              "      fill: #FFFFFF;\n",
              "    }\n",
              "  </style>\n",
              "\n",
              "      <script>\n",
              "        const buttonEl =\n",
              "          document.querySelector('#df-d922d7b4-b475-4320-8897-f4f9dbfc733c button.colab-df-convert');\n",
              "        buttonEl.style.display =\n",
              "          google.colab.kernel.accessAllowed ? 'block' : 'none';\n",
              "\n",
              "        async function convertToInteractive(key) {\n",
              "          const element = document.querySelector('#df-d922d7b4-b475-4320-8897-f4f9dbfc733c');\n",
              "          const dataTable =\n",
              "            await google.colab.kernel.invokeFunction('convertToInteractive',\n",
              "                                                     [key], {});\n",
              "          if (!dataTable) return;\n",
              "\n",
              "          const docLinkHtml = 'Like what you see? Visit the ' +\n",
              "            '<a target=\"_blank\" href=https://colab.research.google.com/notebooks/data_table.ipynb>data table notebook</a>'\n",
              "            + ' to learn more about interactive tables.';\n",
              "          element.innerHTML = '';\n",
              "          dataTable['output_type'] = 'display_data';\n",
              "          await google.colab.output.renderOutput(dataTable, element);\n",
              "          const docLink = document.createElement('div');\n",
              "          docLink.innerHTML = docLinkHtml;\n",
              "          element.appendChild(docLink);\n",
              "        }\n",
              "      </script>\n",
              "    </div>\n",
              "  </div>\n",
              "  "
            ]
          },
          "metadata": {},
          "execution_count": 4
        }
      ]
    },
    {
      "cell_type": "code",
      "source": [
        "df"
      ],
      "metadata": {
        "colab": {
          "base_uri": "https://localhost:8080/",
          "height": 927
        },
        "id": "TUShVYX1f8CM",
        "outputId": "4f3ba6ec-0340-4a13-dc93-a2e856e00307"
      },
      "execution_count": null,
      "outputs": [
        {
          "output_type": "execute_result",
          "data": {
            "text/plain": [
              "   Kode Kelurahan     Kecamatan Strata Posyandu  Jumlah Balita Terdaftar  \\\n",
              "0   32.73.16.1004  Kiaracondong         Purnama                       23   \n",
              "1   32.73.16.1004  Kiaracondong         Purnama                       34   \n",
              "2   32.73.16.1002  Kiaracondong         Purnama                       35   \n",
              "3   32.73.16.1004  Kiaracondong         Purnama                       35   \n",
              "4   32.73.16.1002  Kiaracondong         Purnama                       43   \n",
              "5   32.73.16.1002  Kiaracondong         Purnama                       48   \n",
              "6   32.73.16.1002  Kiaracondong         Mandiri                       50   \n",
              "7   32.73.16.1004  Kiaracondong         Purnama                       40   \n",
              "8   32.73.16.1002  Kiaracondong         Purnama                       52   \n",
              "9   32.73.16.1002  Kiaracondong         Mandiri                       52   \n",
              "10  32.73.16.1001  Kiaracondong         Mandiri                       52   \n",
              "11  32.73.16.1001  Kiaracondong         Purnama                       43   \n",
              "12  32.73.16.1002  Kiaracondong         Purnama                       54   \n",
              "13  32.73.16.1002  Kiaracondong         Purnama                       55   \n",
              "14  32.73.16.1004  Kiaracondong         Purnama                       57   \n",
              "15  32.73.16.1001  Kiaracondong         Purnama                       60   \n",
              "16  32.73.16.1001  Kiaracondong         Mandiri                       65   \n",
              "17  32.73.16.1002  Kiaracondong         Purnama                       72   \n",
              "18  32.73.16.1006  Kiaracondong  Kebon Kangkung                       68   \n",
              "19  32.73.16.1002  Kiaracondong         Purnama                       74   \n",
              "20  32.73.16.1001  Kiaracondong         Mandiri                       76   \n",
              "21  32.73.16.1002  Kiaracondong         Purnama                       77   \n",
              "22  32.73.16.1002  Kiaracondong         Mandiri                       83   \n",
              "23  32.73.16.1004  Kiaracondong         Purnama                       50   \n",
              "24  32.73.16.1001  Kiaracondong         Mandiri                       85   \n",
              "25  32.73.16.1002  Kiaracondong         Purnama                       95   \n",
              "26  32.73.16.1001  Kiaracondong         Mandiri                       96   \n",
              "27  32.73.16.1004  Kiaracondong         Purnama                       56   \n",
              "\n",
              "    Jumlah Balita Aktif  Jumlah Kader Aktif  \n",
              "0                    21                   7  \n",
              "1                    34                   7  \n",
              "2                    33                  13  \n",
              "3                    32                   7  \n",
              "4                    41                   5  \n",
              "5                    46                   7  \n",
              "6                    49                   7  \n",
              "7                    32                   7  \n",
              "8                    51                   9  \n",
              "9                    50                  12  \n",
              "10                   41                  13  \n",
              "11                   37                  10  \n",
              "12                   51                   8  \n",
              "13                   53                  10  \n",
              "14                   41                   7  \n",
              "15                   58                   7  \n",
              "16                   62                   9  \n",
              "17                   70                  16  \n",
              "18                   68                   5  \n",
              "19                   72                  10  \n",
              "20                   70                   9  \n",
              "21                   74                  10  \n",
              "22                   80                  10  \n",
              "23                   50                   7  \n",
              "24                   84                   8  \n",
              "25                   94                  13  \n",
              "26                   93                  11  \n",
              "27                   45                   7  "
            ],
            "text/html": [
              "\n",
              "  <div id=\"df-0e7d5044-1de4-46aa-8c4d-b5a406f45d60\">\n",
              "    <div class=\"colab-df-container\">\n",
              "      <div>\n",
              "<style scoped>\n",
              "    .dataframe tbody tr th:only-of-type {\n",
              "        vertical-align: middle;\n",
              "    }\n",
              "\n",
              "    .dataframe tbody tr th {\n",
              "        vertical-align: top;\n",
              "    }\n",
              "\n",
              "    .dataframe thead th {\n",
              "        text-align: right;\n",
              "    }\n",
              "</style>\n",
              "<table border=\"1\" class=\"dataframe\">\n",
              "  <thead>\n",
              "    <tr style=\"text-align: right;\">\n",
              "      <th></th>\n",
              "      <th>Kode Kelurahan</th>\n",
              "      <th>Kecamatan</th>\n",
              "      <th>Strata Posyandu</th>\n",
              "      <th>Jumlah Balita Terdaftar</th>\n",
              "      <th>Jumlah Balita Aktif</th>\n",
              "      <th>Jumlah Kader Aktif</th>\n",
              "    </tr>\n",
              "  </thead>\n",
              "  <tbody>\n",
              "    <tr>\n",
              "      <th>0</th>\n",
              "      <td>32.73.16.1004</td>\n",
              "      <td>Kiaracondong</td>\n",
              "      <td>Purnama</td>\n",
              "      <td>23</td>\n",
              "      <td>21</td>\n",
              "      <td>7</td>\n",
              "    </tr>\n",
              "    <tr>\n",
              "      <th>1</th>\n",
              "      <td>32.73.16.1004</td>\n",
              "      <td>Kiaracondong</td>\n",
              "      <td>Purnama</td>\n",
              "      <td>34</td>\n",
              "      <td>34</td>\n",
              "      <td>7</td>\n",
              "    </tr>\n",
              "    <tr>\n",
              "      <th>2</th>\n",
              "      <td>32.73.16.1002</td>\n",
              "      <td>Kiaracondong</td>\n",
              "      <td>Purnama</td>\n",
              "      <td>35</td>\n",
              "      <td>33</td>\n",
              "      <td>13</td>\n",
              "    </tr>\n",
              "    <tr>\n",
              "      <th>3</th>\n",
              "      <td>32.73.16.1004</td>\n",
              "      <td>Kiaracondong</td>\n",
              "      <td>Purnama</td>\n",
              "      <td>35</td>\n",
              "      <td>32</td>\n",
              "      <td>7</td>\n",
              "    </tr>\n",
              "    <tr>\n",
              "      <th>4</th>\n",
              "      <td>32.73.16.1002</td>\n",
              "      <td>Kiaracondong</td>\n",
              "      <td>Purnama</td>\n",
              "      <td>43</td>\n",
              "      <td>41</td>\n",
              "      <td>5</td>\n",
              "    </tr>\n",
              "    <tr>\n",
              "      <th>5</th>\n",
              "      <td>32.73.16.1002</td>\n",
              "      <td>Kiaracondong</td>\n",
              "      <td>Purnama</td>\n",
              "      <td>48</td>\n",
              "      <td>46</td>\n",
              "      <td>7</td>\n",
              "    </tr>\n",
              "    <tr>\n",
              "      <th>6</th>\n",
              "      <td>32.73.16.1002</td>\n",
              "      <td>Kiaracondong</td>\n",
              "      <td>Mandiri</td>\n",
              "      <td>50</td>\n",
              "      <td>49</td>\n",
              "      <td>7</td>\n",
              "    </tr>\n",
              "    <tr>\n",
              "      <th>7</th>\n",
              "      <td>32.73.16.1004</td>\n",
              "      <td>Kiaracondong</td>\n",
              "      <td>Purnama</td>\n",
              "      <td>40</td>\n",
              "      <td>32</td>\n",
              "      <td>7</td>\n",
              "    </tr>\n",
              "    <tr>\n",
              "      <th>8</th>\n",
              "      <td>32.73.16.1002</td>\n",
              "      <td>Kiaracondong</td>\n",
              "      <td>Purnama</td>\n",
              "      <td>52</td>\n",
              "      <td>51</td>\n",
              "      <td>9</td>\n",
              "    </tr>\n",
              "    <tr>\n",
              "      <th>9</th>\n",
              "      <td>32.73.16.1002</td>\n",
              "      <td>Kiaracondong</td>\n",
              "      <td>Mandiri</td>\n",
              "      <td>52</td>\n",
              "      <td>50</td>\n",
              "      <td>12</td>\n",
              "    </tr>\n",
              "    <tr>\n",
              "      <th>10</th>\n",
              "      <td>32.73.16.1001</td>\n",
              "      <td>Kiaracondong</td>\n",
              "      <td>Mandiri</td>\n",
              "      <td>52</td>\n",
              "      <td>41</td>\n",
              "      <td>13</td>\n",
              "    </tr>\n",
              "    <tr>\n",
              "      <th>11</th>\n",
              "      <td>32.73.16.1001</td>\n",
              "      <td>Kiaracondong</td>\n",
              "      <td>Purnama</td>\n",
              "      <td>43</td>\n",
              "      <td>37</td>\n",
              "      <td>10</td>\n",
              "    </tr>\n",
              "    <tr>\n",
              "      <th>12</th>\n",
              "      <td>32.73.16.1002</td>\n",
              "      <td>Kiaracondong</td>\n",
              "      <td>Purnama</td>\n",
              "      <td>54</td>\n",
              "      <td>51</td>\n",
              "      <td>8</td>\n",
              "    </tr>\n",
              "    <tr>\n",
              "      <th>13</th>\n",
              "      <td>32.73.16.1002</td>\n",
              "      <td>Kiaracondong</td>\n",
              "      <td>Purnama</td>\n",
              "      <td>55</td>\n",
              "      <td>53</td>\n",
              "      <td>10</td>\n",
              "    </tr>\n",
              "    <tr>\n",
              "      <th>14</th>\n",
              "      <td>32.73.16.1004</td>\n",
              "      <td>Kiaracondong</td>\n",
              "      <td>Purnama</td>\n",
              "      <td>57</td>\n",
              "      <td>41</td>\n",
              "      <td>7</td>\n",
              "    </tr>\n",
              "    <tr>\n",
              "      <th>15</th>\n",
              "      <td>32.73.16.1001</td>\n",
              "      <td>Kiaracondong</td>\n",
              "      <td>Purnama</td>\n",
              "      <td>60</td>\n",
              "      <td>58</td>\n",
              "      <td>7</td>\n",
              "    </tr>\n",
              "    <tr>\n",
              "      <th>16</th>\n",
              "      <td>32.73.16.1001</td>\n",
              "      <td>Kiaracondong</td>\n",
              "      <td>Mandiri</td>\n",
              "      <td>65</td>\n",
              "      <td>62</td>\n",
              "      <td>9</td>\n",
              "    </tr>\n",
              "    <tr>\n",
              "      <th>17</th>\n",
              "      <td>32.73.16.1002</td>\n",
              "      <td>Kiaracondong</td>\n",
              "      <td>Purnama</td>\n",
              "      <td>72</td>\n",
              "      <td>70</td>\n",
              "      <td>16</td>\n",
              "    </tr>\n",
              "    <tr>\n",
              "      <th>18</th>\n",
              "      <td>32.73.16.1006</td>\n",
              "      <td>Kiaracondong</td>\n",
              "      <td>Kebon Kangkung</td>\n",
              "      <td>68</td>\n",
              "      <td>68</td>\n",
              "      <td>5</td>\n",
              "    </tr>\n",
              "    <tr>\n",
              "      <th>19</th>\n",
              "      <td>32.73.16.1002</td>\n",
              "      <td>Kiaracondong</td>\n",
              "      <td>Purnama</td>\n",
              "      <td>74</td>\n",
              "      <td>72</td>\n",
              "      <td>10</td>\n",
              "    </tr>\n",
              "    <tr>\n",
              "      <th>20</th>\n",
              "      <td>32.73.16.1001</td>\n",
              "      <td>Kiaracondong</td>\n",
              "      <td>Mandiri</td>\n",
              "      <td>76</td>\n",
              "      <td>70</td>\n",
              "      <td>9</td>\n",
              "    </tr>\n",
              "    <tr>\n",
              "      <th>21</th>\n",
              "      <td>32.73.16.1002</td>\n",
              "      <td>Kiaracondong</td>\n",
              "      <td>Purnama</td>\n",
              "      <td>77</td>\n",
              "      <td>74</td>\n",
              "      <td>10</td>\n",
              "    </tr>\n",
              "    <tr>\n",
              "      <th>22</th>\n",
              "      <td>32.73.16.1002</td>\n",
              "      <td>Kiaracondong</td>\n",
              "      <td>Mandiri</td>\n",
              "      <td>83</td>\n",
              "      <td>80</td>\n",
              "      <td>10</td>\n",
              "    </tr>\n",
              "    <tr>\n",
              "      <th>23</th>\n",
              "      <td>32.73.16.1004</td>\n",
              "      <td>Kiaracondong</td>\n",
              "      <td>Purnama</td>\n",
              "      <td>50</td>\n",
              "      <td>50</td>\n",
              "      <td>7</td>\n",
              "    </tr>\n",
              "    <tr>\n",
              "      <th>24</th>\n",
              "      <td>32.73.16.1001</td>\n",
              "      <td>Kiaracondong</td>\n",
              "      <td>Mandiri</td>\n",
              "      <td>85</td>\n",
              "      <td>84</td>\n",
              "      <td>8</td>\n",
              "    </tr>\n",
              "    <tr>\n",
              "      <th>25</th>\n",
              "      <td>32.73.16.1002</td>\n",
              "      <td>Kiaracondong</td>\n",
              "      <td>Purnama</td>\n",
              "      <td>95</td>\n",
              "      <td>94</td>\n",
              "      <td>13</td>\n",
              "    </tr>\n",
              "    <tr>\n",
              "      <th>26</th>\n",
              "      <td>32.73.16.1001</td>\n",
              "      <td>Kiaracondong</td>\n",
              "      <td>Mandiri</td>\n",
              "      <td>96</td>\n",
              "      <td>93</td>\n",
              "      <td>11</td>\n",
              "    </tr>\n",
              "    <tr>\n",
              "      <th>27</th>\n",
              "      <td>32.73.16.1004</td>\n",
              "      <td>Kiaracondong</td>\n",
              "      <td>Purnama</td>\n",
              "      <td>56</td>\n",
              "      <td>45</td>\n",
              "      <td>7</td>\n",
              "    </tr>\n",
              "  </tbody>\n",
              "</table>\n",
              "</div>\n",
              "      <button class=\"colab-df-convert\" onclick=\"convertToInteractive('df-0e7d5044-1de4-46aa-8c4d-b5a406f45d60')\"\n",
              "              title=\"Convert this dataframe to an interactive table.\"\n",
              "              style=\"display:none;\">\n",
              "        \n",
              "  <svg xmlns=\"http://www.w3.org/2000/svg\" height=\"24px\"viewBox=\"0 0 24 24\"\n",
              "       width=\"24px\">\n",
              "    <path d=\"M0 0h24v24H0V0z\" fill=\"none\"/>\n",
              "    <path d=\"M18.56 5.44l.94 2.06.94-2.06 2.06-.94-2.06-.94-.94-2.06-.94 2.06-2.06.94zm-11 1L8.5 8.5l.94-2.06 2.06-.94-2.06-.94L8.5 2.5l-.94 2.06-2.06.94zm10 10l.94 2.06.94-2.06 2.06-.94-2.06-.94-.94-2.06-.94 2.06-2.06.94z\"/><path d=\"M17.41 7.96l-1.37-1.37c-.4-.4-.92-.59-1.43-.59-.52 0-1.04.2-1.43.59L10.3 9.45l-7.72 7.72c-.78.78-.78 2.05 0 2.83L4 21.41c.39.39.9.59 1.41.59.51 0 1.02-.2 1.41-.59l7.78-7.78 2.81-2.81c.8-.78.8-2.07 0-2.86zM5.41 20L4 18.59l7.72-7.72 1.47 1.35L5.41 20z\"/>\n",
              "  </svg>\n",
              "      </button>\n",
              "      \n",
              "  <style>\n",
              "    .colab-df-container {\n",
              "      display:flex;\n",
              "      flex-wrap:wrap;\n",
              "      gap: 12px;\n",
              "    }\n",
              "\n",
              "    .colab-df-convert {\n",
              "      background-color: #E8F0FE;\n",
              "      border: none;\n",
              "      border-radius: 50%;\n",
              "      cursor: pointer;\n",
              "      display: none;\n",
              "      fill: #1967D2;\n",
              "      height: 32px;\n",
              "      padding: 0 0 0 0;\n",
              "      width: 32px;\n",
              "    }\n",
              "\n",
              "    .colab-df-convert:hover {\n",
              "      background-color: #E2EBFA;\n",
              "      box-shadow: 0px 1px 2px rgba(60, 64, 67, 0.3), 0px 1px 3px 1px rgba(60, 64, 67, 0.15);\n",
              "      fill: #174EA6;\n",
              "    }\n",
              "\n",
              "    [theme=dark] .colab-df-convert {\n",
              "      background-color: #3B4455;\n",
              "      fill: #D2E3FC;\n",
              "    }\n",
              "\n",
              "    [theme=dark] .colab-df-convert:hover {\n",
              "      background-color: #434B5C;\n",
              "      box-shadow: 0px 1px 3px 1px rgba(0, 0, 0, 0.15);\n",
              "      filter: drop-shadow(0px 1px 2px rgba(0, 0, 0, 0.3));\n",
              "      fill: #FFFFFF;\n",
              "    }\n",
              "  </style>\n",
              "\n",
              "      <script>\n",
              "        const buttonEl =\n",
              "          document.querySelector('#df-0e7d5044-1de4-46aa-8c4d-b5a406f45d60 button.colab-df-convert');\n",
              "        buttonEl.style.display =\n",
              "          google.colab.kernel.accessAllowed ? 'block' : 'none';\n",
              "\n",
              "        async function convertToInteractive(key) {\n",
              "          const element = document.querySelector('#df-0e7d5044-1de4-46aa-8c4d-b5a406f45d60');\n",
              "          const dataTable =\n",
              "            await google.colab.kernel.invokeFunction('convertToInteractive',\n",
              "                                                     [key], {});\n",
              "          if (!dataTable) return;\n",
              "\n",
              "          const docLinkHtml = 'Like what you see? Visit the ' +\n",
              "            '<a target=\"_blank\" href=https://colab.research.google.com/notebooks/data_table.ipynb>data table notebook</a>'\n",
              "            + ' to learn more about interactive tables.';\n",
              "          element.innerHTML = '';\n",
              "          dataTable['output_type'] = 'display_data';\n",
              "          await google.colab.output.renderOutput(dataTable, element);\n",
              "          const docLink = document.createElement('div');\n",
              "          docLink.innerHTML = docLinkHtml;\n",
              "          element.appendChild(docLink);\n",
              "        }\n",
              "      </script>\n",
              "    </div>\n",
              "  </div>\n",
              "  "
            ]
          },
          "metadata": {},
          "execution_count": 5
        }
      ]
    },
    {
      "cell_type": "code",
      "source": [
        "import matplotlib.pyplot as plt\n",
        "df.plot(kind='scatter',x='Jumlah Balita Terdaftar', y='Jumlah Balita Aktif')\n",
        "\n",
        "plt.title('kesehatan')\n",
        "plt.xlabel('Jumlah Balita Terdaftar')\n",
        "plt.ylabel('Indeks')\n",
        "plt.xlim(0, 90)\n",
        "plt.ylim(0, 90)\n",
        "plt.grid(True)\n",
        "plt.show()"
      ],
      "metadata": {
        "colab": {
          "base_uri": "https://localhost:8080/",
          "height": 295
        },
        "id": "7suX9HWUf92i",
        "outputId": "0cfe6681-9318-496b-8843-43fb1d11367e"
      },
      "execution_count": null,
      "outputs": [
        {
          "output_type": "display_data",
          "data": {
            "text/plain": [
              "<Figure size 432x288 with 1 Axes>"
            ],
            "image/png": "[encoded data removed]"
          },
          "metadata": {
            "needs_background": "light"
          }
        }
      ]
    },
    {
      "cell_type": "code",
      "source": [
        "import numpy as np\n",
        "x = np.array(df['Jumlah Balita Terdaftar'])\n",
        "y = np.array(df['Jumlah Balita Aktif'])\n",
        "\n",
        "print(f'x : {x}')\n",
        "print(f'y : {y}')\n"
      ],
      "metadata": {
        "colab": {
          "base_uri": "https://localhost:8080/"
        },
        "id": "KLuB81HFgj03",
        "outputId": "5a08a2f5-b13c-42e0-a62e-3d6fbd0ac3a7"
      },
      "execution_count": null,
      "outputs": [
        {
          "output_type": "stream",
          "name": "stdout",
          "text": [
            "x : [23 34 35 35 43 48 50 40 52 52 52 43 54 55 57 60 65 72 68 74 76 77 83 50\n",
            " 85 95 96 56]\n",
            "y : [21 34 33 32 41 46 49 32 51 50 41 37 51 53 41 58 62 70 68 72 70 74 80 50\n",
            " 84 94 93 45]\n"
          ]
        }
      ]
    },
    {
      "cell_type": "code",
      "source": [
        "x = x.reshape(-1, 1)\n",
        "x.shape"
      ],
      "metadata": {
        "colab": {
          "base_uri": "https://localhost:8080/"
        },
        "id": "Cpc08pChnBtI",
        "outputId": "7a266f3c-aa2c-4f85-8bae-26aacaf3054a"
      },
      "execution_count": null,
      "outputs": [
        {
          "output_type": "execute_result",
          "data": {
            "text/plain": [
              "(28, 1)"
            ]
          },
          "metadata": {},
          "execution_count": 8
        }
      ]
    },
    {
      "cell_type": "code",
      "source": [
        "x"
      ],
      "metadata": {
        "colab": {
          "base_uri": "https://localhost:8080/"
        },
        "id": "DO-G1R9pnEDs",
        "outputId": "ca53ac5d-9ca5-48e2-fc32-730e596e91aa"
      },
      "execution_count": null,
      "outputs": [
        {
          "output_type": "execute_result",
          "data": {
            "text/plain": [
              "array([[23],\n",
              "       [34],\n",
              "       [35],\n",
              "       [35],\n",
              "       [43],\n",
              "       [48],\n",
              "       [50],\n",
              "       [40],\n",
              "       [52],\n",
              "       [52],\n",
              "       [52],\n",
              "       [43],\n",
              "       [54],\n",
              "       [55],\n",
              "       [57],\n",
              "       [60],\n",
              "       [65],\n",
              "       [72],\n",
              "       [68],\n",
              "       [74],\n",
              "       [76],\n",
              "       [77],\n",
              "       [83],\n",
              "       [50],\n",
              "       [85],\n",
              "       [95],\n",
              "       [96],\n",
              "       [56]])"
            ]
          },
          "metadata": {},
          "execution_count": 9
        }
      ]
    },
    {
      "cell_type": "code",
      "source": [
        "from sklearn.linear_model import LinearRegression\n",
        "\n",
        "model = LinearRegression()\n",
        "model.fit(x, y)"
      ],
      "metadata": {
        "colab": {
          "base_uri": "https://localhost:8080/"
        },
        "id": "QUHtweg1nKBz",
        "outputId": "3761d252-4876-4fd4-ac44-a064cb4e2585"
      },
      "execution_count": null,
      "outputs": [
        {
          "output_type": "execute_result",
          "data": {
            "text/plain": [
              "LinearRegression()"
            ]
          },
          "metadata": {},
          "execution_count": 10
        }
      ]
    },
    {
      "cell_type": "code",
      "source": [
        "x_vis = np.array([0, 90]).reshape(-1, 1)\n",
        "y_vis = model.predict(x_vis )"
      ],
      "metadata": {
        "id": "WloGsX0ynVC-"
      },
      "execution_count": null,
      "outputs": []
    },
    {
      "cell_type": "code",
      "source": [
        "plt.scatter(x, y)\n",
        "plt.plot(x_vis, y_vis, '-r')\n",
        "plt.title('kesehatan')\n",
        "plt.xlabel('Jumlah Balita Terdaftar')\n",
        "plt.ylabel('Indeks')\n",
        "plt.xlim(0, 90)\n",
        "plt.ylim(0, 90)\n",
        "plt.grid(True)\n",
        "plt.show()"
      ],
      "metadata": {
        "colab": {
          "base_uri": "https://localhost:8080/",
          "height": 295
        },
        "id": "rd9xVg3Un3Qx",
        "outputId": "81b69f32-e592-4f29-c053-cffad800ec48"
      },
      "execution_count": null,
      "outputs": [
        {
          "output_type": "display_data",
          "data": {
            "text/plain": [
              "<Figure size 432x288 with 1 Axes>"
            ],
            "image/png": "[encoded data removed]"
          },
          "metadata": {
            "needs_background": "light"
          }
        }
      ]
    },
    {
      "cell_type": "code",
      "source": [
        "print(f'intercept : {model.intercept_}')\n",
        "print(f'slope : {model.coef_}')"
      ],
      "metadata": {
        "colab": {
          "base_uri": "https://localhost:8080/"
        },
        "id": "iy5DRG_xkopH",
        "outputId": "d78e2995-946d-49fe-de7e-8441d682e5d5"
      },
      "execution_count": null,
      "outputs": [
        {
          "output_type": "stream",
          "name": "stdout",
          "text": [
            "intercept : -4.331217986492007\n",
            "slope : [1.01427859]\n"
          ]
        }
      ]
    },
    {
      "cell_type": "code",
      "source": [
        "un= np.array([13, 36, 52, 55, 60]).reshape(-1, 1)\n",
        "un"
      ],
      "metadata": {
        "colab": {
          "base_uri": "https://localhost:8080/"
        },
        "id": "PMTSrjHSlBTB",
        "outputId": "dfabb7f3-5a72-4e41-99dd-1e11f4776992"
      },
      "execution_count": null,
      "outputs": [
        {
          "output_type": "execute_result",
          "data": {
            "text/plain": [
              "array([[13],\n",
              "       [36],\n",
              "       [52],\n",
              "       [55],\n",
              "       [60]])"
            ]
          },
          "metadata": {},
          "execution_count": 14
        }
      ]
    },
    {
      "cell_type": "code",
      "source": [
        "prediksi_indeks = model.predict(un)\n",
        "prediksi_indeks"
      ],
      "metadata": {
        "colab": {
          "base_uri": "https://localhost:8080/"
        },
        "id": "npZZYKa9mDY7",
        "outputId": "88addc64-c037-4177-b632-773a29afb179"
      },
      "execution_count": null,
      "outputs": [
        {
          "output_type": "execute_result",
          "data": {
            "text/plain": [
              "array([ 8.8544037 , 32.1828113 , 48.41126875, 51.45410453, 56.52549748])"
            ]
          },
          "metadata": {},
          "execution_count": 15
        }
      ]
    },
    {
      "cell_type": "code",
      "source": [
        "for penduduk, index in zip(un, prediksi_indeks):\n",
        "  print(f'balita : {penduduk} prediksi indeks : {index}')"
      ],
      "metadata": {
        "colab": {
          "base_uri": "https://localhost:8080/"
        },
        "id": "fpNaeEekmHQK",
        "outputId": "13835544-a349-452b-fe74-a2134fb1e978"
      },
      "execution_count": null,
      "outputs": [
        {
          "output_type": "stream",
          "name": "stdout",
          "text": [
            "balita : [13] prediksi indeks : 8.854403698835043\n",
            "balita : [36] prediksi indeks : 32.18281129595213\n",
            "balita : [52] prediksi indeks : 48.41126875481619\n",
            "balita : [55] prediksi indeks : 51.4541045283532\n",
            "balita : [60] prediksi indeks : 56.52549748424822\n"
          ]
        }
      ]
    },
    {
      "cell_type": "code",
      "source": [
        "print()\n",
        "import matplotlib.pyplot as plt\n",
        "fig = plt.figure()\n",
        "ax = fig.add_axes([0,0,1,1])\n",
        "jurusan = df [\"Jumlah Balita Terdaftar\"]\n",
        "siswa = df [\"Jumlah Balita Aktif\"]\n",
        "c = ['red','yellow','blue']\n",
        "plt.title(\"kesehatan\")\n",
        "ax.bar(jurusan,siswa,color=c)\n",
        "plt.show()\n",
        "print()\n",
        "import matplotlib.pyplot as plt\n",
        "fig = plt.figure()\n",
        "ax = fig.add_axes([0,0,1,1])\n",
        "ax.axis('equal')\n",
        "plt.title(\"kesehatan\")\n",
        "jurusan = df [\"Jumlah Balita Terdaftar\"]\n",
        "siswa = df [\"Jumlah Balita Aktif\"]\n",
        "ax.pie(siswa,labels=jurusan,autopct='%1.2f%%')\n",
        "\n",
        "plt.show()"
      ],
      "metadata": {
        "colab": {
          "base_uri": "https://localhost:8080/",
          "height": 707
        },
        "id": "zBNiZOU7n1_n",
        "outputId": "233ccd47-b032-46e7-b734-97457da0c913"
      },
      "execution_count": null,
      "outputs": [
        {
          "output_type": "stream",
          "name": "stdout",
          "text": [
            "\n"
          ]
        },
        {
          "output_type": "display_data",
          "data": {
            "text/plain": [
              "<Figure size 432x288 with 1 Axes>"
            ],
            "image/png": "[encoded data removed]"
          },
          "metadata": {
            "needs_background": "light"
          }
        },
        {
          "output_type": "stream",
          "name": "stdout",
          "text": [
            "\n"
          ]
        },
        {
          "output_type": "display_data",
          "data": {
            "text/plain": [
              "<Figure size 432x288 with 1 Axes>"
            ],
            "image/png": "[encoded data removed]"
          },
          "metadata": {}
        }
      ]
    }
  ]
}