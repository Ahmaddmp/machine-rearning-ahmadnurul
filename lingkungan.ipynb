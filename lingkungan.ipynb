{
  "nbformat": 4,
  "nbformat_minor": 0,
  "metadata": {
    "colab": {
      "provenance": []
    },
    "kernelspec": {
      "name": "python3",
      "display_name": "Python 3"
    },
    "language_info": {
      "name": "python"
    }
  },
  "cells": [
    {
      "cell_type": "code",
      "execution_count": null,
      "metadata": {
        "colab": {
          "base_uri": "https://localhost:8080/"
        },
        "id": "dq2QuO73ju6n",
        "outputId": "a0aa90e4-364d-4564-d18a-c87ec40c0eeb"
      },
      "outputs": [
        {
          "output_type": "stream",
          "name": "stdout",
          "text": [
            "Mounted at /content/drive\n"
          ]
        }
      ],
      "source": [
        "from google.colab import drive \n",
        "drive.mount('/content/drive') "
      ]
    },
    {
      "cell_type": "code",
      "source": [
        "import pandas as pd\n",
        "\n",
        "path = '/content/drive/MyDrive/CSV/seh4 - Sheet1.csv'\n",
        "\n",
        "df = pd.read_csv(path)\n",
        "df.describe()"
      ],
      "metadata": {
        "colab": {
          "base_uri": "https://localhost:8080/",
          "height": 300
        },
        "id": "zsG1WDhItHOc",
        "outputId": "a0a76485-9486-4692-80a9-a897a69bb04f"
      },
      "execution_count": null,
      "outputs": [
        {
          "output_type": "execute_result",
          "data": {
            "text/plain": [
              "            pm10        so2         co          o3        no2         max\n",
              "count  24.000000  24.000000  24.000000   24.000000  24.000000   24.000000\n",
              "mean   53.708333  23.041667  26.083333   59.958333  15.333333   63.666667\n",
              "std    12.372758   5.262494   6.275672   24.413965   5.264043   21.171488\n",
              "min    35.000000  18.000000  18.000000   24.000000   8.000000   37.000000\n",
              "25%    42.500000  19.000000  19.000000   41.750000  10.750000   45.500000\n",
              "50%    54.000000  21.000000  26.000000   50.500000  14.500000   58.000000\n",
              "75%    63.750000  27.250000  31.000000   82.500000  20.000000   82.500000\n",
              "max    72.000000  34.000000  40.000000  111.000000  26.000000  111.000000"
            ],
            "text/html": [
              "\n",
              "  <div id=\"df-01f7901b-6628-46d9-bd9f-17b1a2108f78\">\n",
              "    <div class=\"colab-df-container\">\n",
              "      <div>\n",
              "<style scoped>\n",
              "    .dataframe tbody tr th:only-of-type {\n",
              "        vertical-align: middle;\n",
              "    }\n",
              "\n",
              "    .dataframe tbody tr th {\n",
              "        vertical-align: top;\n",
              "    }\n",
              "\n",
              "    .dataframe thead th {\n",
              "        text-align: right;\n",
              "    }\n",
              "</style>\n",
              "<table border=\"1\" class=\"dataframe\">\n",
              "  <thead>\n",
              "    <tr style=\"text-align: right;\">\n",
              "      <th></th>\n",
              "      <th>pm10</th>\n",
              "      <th>so2</th>\n",
              "      <th>co</th>\n",
              "      <th>o3</th>\n",
              "      <th>no2</th>\n",
              "      <th>max</th>\n",
              "    </tr>\n",
              "  </thead>\n",
              "  <tbody>\n",
              "    <tr>\n",
              "      <th>count</th>\n",
              "      <td>24.000000</td>\n",
              "      <td>24.000000</td>\n",
              "      <td>24.000000</td>\n",
              "      <td>24.000000</td>\n",
              "      <td>24.000000</td>\n",
              "      <td>24.000000</td>\n",
              "    </tr>\n",
              "    <tr>\n",
              "      <th>mean</th>\n",
              "      <td>53.708333</td>\n",
              "      <td>23.041667</td>\n",
              "      <td>26.083333</td>\n",
              "      <td>59.958333</td>\n",
              "      <td>15.333333</td>\n",
              "      <td>63.666667</td>\n",
              "    </tr>\n",
              "    <tr>\n",
              "      <th>std</th>\n",
              "      <td>12.372758</td>\n",
              "      <td>5.262494</td>\n",
              "      <td>6.275672</td>\n",
              "      <td>24.413965</td>\n",
              "      <td>5.264043</td>\n",
              "      <td>21.171488</td>\n",
              "    </tr>\n",
              "    <tr>\n",
              "      <th>min</th>\n",
              "      <td>35.000000</td>\n",
              "      <td>18.000000</td>\n",
              "      <td>18.000000</td>\n",
              "      <td>24.000000</td>\n",
              "      <td>8.000000</td>\n",
              "      <td>37.000000</td>\n",
              "    </tr>\n",
              "    <tr>\n",
              "      <th>25%</th>\n",
              "      <td>42.500000</td>\n",
              "      <td>19.000000</td>\n",
              "      <td>19.000000</td>\n",
              "      <td>41.750000</td>\n",
              "      <td>10.750000</td>\n",
              "      <td>45.500000</td>\n",
              "    </tr>\n",
              "    <tr>\n",
              "      <th>50%</th>\n",
              "      <td>54.000000</td>\n",
              "      <td>21.000000</td>\n",
              "      <td>26.000000</td>\n",
              "      <td>50.500000</td>\n",
              "      <td>14.500000</td>\n",
              "      <td>58.000000</td>\n",
              "    </tr>\n",
              "    <tr>\n",
              "      <th>75%</th>\n",
              "      <td>63.750000</td>\n",
              "      <td>27.250000</td>\n",
              "      <td>31.000000</td>\n",
              "      <td>82.500000</td>\n",
              "      <td>20.000000</td>\n",
              "      <td>82.500000</td>\n",
              "    </tr>\n",
              "    <tr>\n",
              "      <th>max</th>\n",
              "      <td>72.000000</td>\n",
              "      <td>34.000000</td>\n",
              "      <td>40.000000</td>\n",
              "      <td>111.000000</td>\n",
              "      <td>26.000000</td>\n",
              "      <td>111.000000</td>\n",
              "    </tr>\n",
              "  </tbody>\n",
              "</table>\n",
              "</div>\n",
              "      <button class=\"colab-df-convert\" onclick=\"convertToInteractive('df-01f7901b-6628-46d9-bd9f-17b1a2108f78')\"\n",
              "              title=\"Convert this dataframe to an interactive table.\"\n",
              "              style=\"display:none;\">\n",
              "        \n",
              "  <svg xmlns=\"http://www.w3.org/2000/svg\" height=\"24px\"viewBox=\"0 0 24 24\"\n",
              "       width=\"24px\">\n",
              "    <path d=\"M0 0h24v24H0V0z\" fill=\"none\"/>\n",
              "    <path d=\"M18.56 5.44l.94 2.06.94-2.06 2.06-.94-2.06-.94-.94-2.06-.94 2.06-2.06.94zm-11 1L8.5 8.5l.94-2.06 2.06-.94-2.06-.94L8.5 2.5l-.94 2.06-2.06.94zm10 10l.94 2.06.94-2.06 2.06-.94-2.06-.94-.94-2.06-.94 2.06-2.06.94z\"/><path d=\"M17.41 7.96l-1.37-1.37c-.4-.4-.92-.59-1.43-.59-.52 0-1.04.2-1.43.59L10.3 9.45l-7.72 7.72c-.78.78-.78 2.05 0 2.83L4 21.41c.39.39.9.59 1.41.59.51 0 1.02-.2 1.41-.59l7.78-7.78 2.81-2.81c.8-.78.8-2.07 0-2.86zM5.41 20L4 18.59l7.72-7.72 1.47 1.35L5.41 20z\"/>\n",
              "  </svg>\n",
              "      </button>\n",
              "      \n",
              "  <style>\n",
              "    .colab-df-container {\n",
              "      display:flex;\n",
              "      flex-wrap:wrap;\n",
              "      gap: 12px;\n",
              "    }\n",
              "\n",
              "    .colab-df-convert {\n",
              "      background-color: #E8F0FE;\n",
              "      border: none;\n",
              "      border-radius: 50%;\n",
              "      cursor: pointer;\n",
              "      display: none;\n",
              "      fill: #1967D2;\n",
              "      height: 32px;\n",
              "      padding: 0 0 0 0;\n",
              "      width: 32px;\n",
              "    }\n",
              "\n",
              "    .colab-df-convert:hover {\n",
              "      background-color: #E2EBFA;\n",
              "      box-shadow: 0px 1px 2px rgba(60, 64, 67, 0.3), 0px 1px 3px 1px rgba(60, 64, 67, 0.15);\n",
              "      fill: #174EA6;\n",
              "    }\n",
              "\n",
              "    [theme=dark] .colab-df-convert {\n",
              "      background-color: #3B4455;\n",
              "      fill: #D2E3FC;\n",
              "    }\n",
              "\n",
              "    [theme=dark] .colab-df-convert:hover {\n",
              "      background-color: #434B5C;\n",
              "      box-shadow: 0px 1px 3px 1px rgba(0, 0, 0, 0.15);\n",
              "      filter: drop-shadow(0px 1px 2px rgba(0, 0, 0, 0.3));\n",
              "      fill: #FFFFFF;\n",
              "    }\n",
              "  </style>\n",
              "\n",
              "      <script>\n",
              "        const buttonEl =\n",
              "          document.querySelector('#df-01f7901b-6628-46d9-bd9f-17b1a2108f78 button.colab-df-convert');\n",
              "        buttonEl.style.display =\n",
              "          google.colab.kernel.accessAllowed ? 'block' : 'none';\n",
              "\n",
              "        async function convertToInteractive(key) {\n",
              "          const element = document.querySelector('#df-01f7901b-6628-46d9-bd9f-17b1a2108f78');\n",
              "          const dataTable =\n",
              "            await google.colab.kernel.invokeFunction('convertToInteractive',\n",
              "                                                     [key], {});\n",
              "          if (!dataTable) return;\n",
              "\n",
              "          const docLinkHtml = 'Like what you see? Visit the ' +\n",
              "            '<a target=\"_blank\" href=https://colab.research.google.com/notebooks/data_table.ipynb>data table notebook</a>'\n",
              "            + ' to learn more about interactive tables.';\n",
              "          element.innerHTML = '';\n",
              "          dataTable['output_type'] = 'display_data';\n",
              "          await google.colab.output.renderOutput(dataTable, element);\n",
              "          const docLink = document.createElement('div');\n",
              "          docLink.innerHTML = docLinkHtml;\n",
              "          element.appendChild(docLink);\n",
              "        }\n",
              "      </script>\n",
              "    </div>\n",
              "  </div>\n",
              "  "
            ]
          },
          "metadata": {},
          "execution_count": 2
        }
      ]
    },
    {
      "cell_type": "code",
      "source": [
        "df"
      ],
      "metadata": {
        "colab": {
          "base_uri": "https://localhost:8080/",
          "height": 802
        },
        "id": "eXkq23qNtTFe",
        "outputId": "6bc30c92-67b0-4343-cc34-2eece9d79299"
      },
      "execution_count": null,
      "outputs": [
        {
          "output_type": "execute_result",
          "data": {
            "text/plain": [
              "       tanggal  pm10  so2  co   o3  no2  max critical     categori lokasi_spku\n",
              "0   2015-12-02    72   20  25  111   20  111       O3  TIDAK SEHAT        DKI2\n",
              "1   2015-12-03    71   32  32   82   26   82       O3       SEDANG        DKI3\n",
              "2   2015-12-04    66   30  30   84   24   84       O3       SEDANG        DKI3\n",
              "3   2015-12-06    71   34  40   79   20   79       O3       SEDANG        DKI4\n",
              "4   2015-12-07    52   31  31   63   15   63       O3       SEDANG        DKI3\n",
              "5   2015-12-09    62   31  31   65   20   65       O3       SEDANG        DKI2\n",
              "6   2015-12-10    63   28  22   85   20   85       O3       SEDANG        DKI3\n",
              "7   2015-12-11    66   27  31   85   23   85       O3       SEDANG        DKI2\n",
              "8   2015-12-12    61   25  27   90   19   90       O3       SEDANG        DKI2\n",
              "9   2015-12-14    35   21  24   40    9   40       O3         BAIK        DKI2\n",
              "10  2015-12-15    37   22  19   42    8   42       O3         BAIK        DKI2\n",
              "11  2015-12-16    36   19  19   44   11   44       O3         BAIK        DKI2\n",
              "12  2015-12-17    39   19  18   24   10   39     PM10         BAIK        DKI1\n",
              "13  2015-12-18    46   18  19   44   12   46     PM10         BAIK        DKI1\n",
              "14  2015-12-19    68   18  19   75   13   75       O3       SEDANG        DKI4\n",
              "15  2015-12-20    51   18  35   97   13   97       O3       SEDANG        DKI4\n",
              "16  2015-12-21    37   18  21   36   10   37     PM10         BAIK        DKI1\n",
              "17  2015-12-22    48   18  19   28    9   48     PM10         BAIK        DKI1\n",
              "18  2015-12-23    41   19  19   31   13   41     PM10         BAIK        DKI1\n",
              "19  2015-12-27    53   21  28   47   15   53     PM10       SEDANG        DKI5\n",
              "20  2015-12-28    55   21  30   45   18   55     PM10       SEDANG        DKI5\n",
              "21  2015-12-29    61   22  34   41   17   61     PM10       SEDANG        DKI5\n",
              "22  2015-12-30    55   22  24   50   14   55     PM10       SEDANG        DKI1\n",
              "23  2015-12-31    43   19  29   51    9   51       O3       SEDANG        DKI2"
            ],
            "text/html": [
              "\n",
              "  <div id=\"df-ff8fae29-9141-443a-aafa-7fa384bc26c7\">\n",
              "    <div class=\"colab-df-container\">\n",
              "      <div>\n",
              "<style scoped>\n",
              "    .dataframe tbody tr th:only-of-type {\n",
              "        vertical-align: middle;\n",
              "    }\n",
              "\n",
              "    .dataframe tbody tr th {\n",
              "        vertical-align: top;\n",
              "    }\n",
              "\n",
              "    .dataframe thead th {\n",
              "        text-align: right;\n",
              "    }\n",
              "</style>\n",
              "<table border=\"1\" class=\"dataframe\">\n",
              "  <thead>\n",
              "    <tr style=\"text-align: right;\">\n",
              "      <th></th>\n",
              "      <th>tanggal</th>\n",
              "      <th>pm10</th>\n",
              "      <th>so2</th>\n",
              "      <th>co</th>\n",
              "      <th>o3</th>\n",
              "      <th>no2</th>\n",
              "      <th>max</th>\n",
              "      <th>critical</th>\n",
              "      <th>categori</th>\n",
              "      <th>lokasi_spku</th>\n",
              "    </tr>\n",
              "  </thead>\n",
              "  <tbody>\n",
              "    <tr>\n",
              "      <th>0</th>\n",
              "      <td>2015-12-02</td>\n",
              "      <td>72</td>\n",
              "      <td>20</td>\n",
              "      <td>25</td>\n",
              "      <td>111</td>\n",
              "      <td>20</td>\n",
              "      <td>111</td>\n",
              "      <td>O3</td>\n",
              "      <td>TIDAK SEHAT</td>\n",
              "      <td>DKI2</td>\n",
              "    </tr>\n",
              "    <tr>\n",
              "      <th>1</th>\n",
              "      <td>2015-12-03</td>\n",
              "      <td>71</td>\n",
              "      <td>32</td>\n",
              "      <td>32</td>\n",
              "      <td>82</td>\n",
              "      <td>26</td>\n",
              "      <td>82</td>\n",
              "      <td>O3</td>\n",
              "      <td>SEDANG</td>\n",
              "      <td>DKI3</td>\n",
              "    </tr>\n",
              "    <tr>\n",
              "      <th>2</th>\n",
              "      <td>2015-12-04</td>\n",
              "      <td>66</td>\n",
              "      <td>30</td>\n",
              "      <td>30</td>\n",
              "      <td>84</td>\n",
              "      <td>24</td>\n",
              "      <td>84</td>\n",
              "      <td>O3</td>\n",
              "      <td>SEDANG</td>\n",
              "      <td>DKI3</td>\n",
              "    </tr>\n",
              "    <tr>\n",
              "      <th>3</th>\n",
              "      <td>2015-12-06</td>\n",
              "      <td>71</td>\n",
              "      <td>34</td>\n",
              "      <td>40</td>\n",
              "      <td>79</td>\n",
              "      <td>20</td>\n",
              "      <td>79</td>\n",
              "      <td>O3</td>\n",
              "      <td>SEDANG</td>\n",
              "      <td>DKI4</td>\n",
              "    </tr>\n",
              "    <tr>\n",
              "      <th>4</th>\n",
              "      <td>2015-12-07</td>\n",
              "      <td>52</td>\n",
              "      <td>31</td>\n",
              "      <td>31</td>\n",
              "      <td>63</td>\n",
              "      <td>15</td>\n",
              "      <td>63</td>\n",
              "      <td>O3</td>\n",
              "      <td>SEDANG</td>\n",
              "      <td>DKI3</td>\n",
              "    </tr>\n",
              "    <tr>\n",
              "      <th>5</th>\n",
              "      <td>2015-12-09</td>\n",
              "      <td>62</td>\n",
              "      <td>31</td>\n",
              "      <td>31</td>\n",
              "      <td>65</td>\n",
              "      <td>20</td>\n",
              "      <td>65</td>\n",
              "      <td>O3</td>\n",
              "      <td>SEDANG</td>\n",
              "      <td>DKI2</td>\n",
              "    </tr>\n",
              "    <tr>\n",
              "      <th>6</th>\n",
              "      <td>2015-12-10</td>\n",
              "      <td>63</td>\n",
              "      <td>28</td>\n",
              "      <td>22</td>\n",
              "      <td>85</td>\n",
              "      <td>20</td>\n",
              "      <td>85</td>\n",
              "      <td>O3</td>\n",
              "      <td>SEDANG</td>\n",
              "      <td>DKI3</td>\n",
              "    </tr>\n",
              "    <tr>\n",
              "      <th>7</th>\n",
              "      <td>2015-12-11</td>\n",
              "      <td>66</td>\n",
              "      <td>27</td>\n",
              "      <td>31</td>\n",
              "      <td>85</td>\n",
              "      <td>23</td>\n",
              "      <td>85</td>\n",
              "      <td>O3</td>\n",
              "      <td>SEDANG</td>\n",
              "      <td>DKI2</td>\n",
              "    </tr>\n",
              "    <tr>\n",
              "      <th>8</th>\n",
              "      <td>2015-12-12</td>\n",
              "      <td>61</td>\n",
              "      <td>25</td>\n",
              "      <td>27</td>\n",
              "      <td>90</td>\n",
              "      <td>19</td>\n",
              "      <td>90</td>\n",
              "      <td>O3</td>\n",
              "      <td>SEDANG</td>\n",
              "      <td>DKI2</td>\n",
              "    </tr>\n",
              "    <tr>\n",
              "      <th>9</th>\n",
              "      <td>2015-12-14</td>\n",
              "      <td>35</td>\n",
              "      <td>21</td>\n",
              "      <td>24</td>\n",
              "      <td>40</td>\n",
              "      <td>9</td>\n",
              "      <td>40</td>\n",
              "      <td>O3</td>\n",
              "      <td>BAIK</td>\n",
              "      <td>DKI2</td>\n",
              "    </tr>\n",
              "    <tr>\n",
              "      <th>10</th>\n",
              "      <td>2015-12-15</td>\n",
              "      <td>37</td>\n",
              "      <td>22</td>\n",
              "      <td>19</td>\n",
              "      <td>42</td>\n",
              "      <td>8</td>\n",
              "      <td>42</td>\n",
              "      <td>O3</td>\n",
              "      <td>BAIK</td>\n",
              "      <td>DKI2</td>\n",
              "    </tr>\n",
              "    <tr>\n",
              "      <th>11</th>\n",
              "      <td>2015-12-16</td>\n",
              "      <td>36</td>\n",
              "      <td>19</td>\n",
              "      <td>19</td>\n",
              "      <td>44</td>\n",
              "      <td>11</td>\n",
              "      <td>44</td>\n",
              "      <td>O3</td>\n",
              "      <td>BAIK</td>\n",
              "      <td>DKI2</td>\n",
              "    </tr>\n",
              "    <tr>\n",
              "      <th>12</th>\n",
              "      <td>2015-12-17</td>\n",
              "      <td>39</td>\n",
              "      <td>19</td>\n",
              "      <td>18</td>\n",
              "      <td>24</td>\n",
              "      <td>10</td>\n",
              "      <td>39</td>\n",
              "      <td>PM10</td>\n",
              "      <td>BAIK</td>\n",
              "      <td>DKI1</td>\n",
              "    </tr>\n",
              "    <tr>\n",
              "      <th>13</th>\n",
              "      <td>2015-12-18</td>\n",
              "      <td>46</td>\n",
              "      <td>18</td>\n",
              "      <td>19</td>\n",
              "      <td>44</td>\n",
              "      <td>12</td>\n",
              "      <td>46</td>\n",
              "      <td>PM10</td>\n",
              "      <td>BAIK</td>\n",
              "      <td>DKI1</td>\n",
              "    </tr>\n",
              "    <tr>\n",
              "      <th>14</th>\n",
              "      <td>2015-12-19</td>\n",
              "      <td>68</td>\n",
              "      <td>18</td>\n",
              "      <td>19</td>\n",
              "      <td>75</td>\n",
              "      <td>13</td>\n",
              "      <td>75</td>\n",
              "      <td>O3</td>\n",
              "      <td>SEDANG</td>\n",
              "      <td>DKI4</td>\n",
              "    </tr>\n",
              "    <tr>\n",
              "      <th>15</th>\n",
              "      <td>2015-12-20</td>\n",
              "      <td>51</td>\n",
              "      <td>18</td>\n",
              "      <td>35</td>\n",
              "      <td>97</td>\n",
              "      <td>13</td>\n",
              "      <td>97</td>\n",
              "      <td>O3</td>\n",
              "      <td>SEDANG</td>\n",
              "      <td>DKI4</td>\n",
              "    </tr>\n",
              "    <tr>\n",
              "      <th>16</th>\n",
              "      <td>2015-12-21</td>\n",
              "      <td>37</td>\n",
              "      <td>18</td>\n",
              "      <td>21</td>\n",
              "      <td>36</td>\n",
              "      <td>10</td>\n",
              "      <td>37</td>\n",
              "      <td>PM10</td>\n",
              "      <td>BAIK</td>\n",
              "      <td>DKI1</td>\n",
              "    </tr>\n",
              "    <tr>\n",
              "      <th>17</th>\n",
              "      <td>2015-12-22</td>\n",
              "      <td>48</td>\n",
              "      <td>18</td>\n",
              "      <td>19</td>\n",
              "      <td>28</td>\n",
              "      <td>9</td>\n",
              "      <td>48</td>\n",
              "      <td>PM10</td>\n",
              "      <td>BAIK</td>\n",
              "      <td>DKI1</td>\n",
              "    </tr>\n",
              "    <tr>\n",
              "      <th>18</th>\n",
              "      <td>2015-12-23</td>\n",
              "      <td>41</td>\n",
              "      <td>19</td>\n",
              "      <td>19</td>\n",
              "      <td>31</td>\n",
              "      <td>13</td>\n",
              "      <td>41</td>\n",
              "      <td>PM10</td>\n",
              "      <td>BAIK</td>\n",
              "      <td>DKI1</td>\n",
              "    </tr>\n",
              "    <tr>\n",
              "      <th>19</th>\n",
              "      <td>2015-12-27</td>\n",
              "      <td>53</td>\n",
              "      <td>21</td>\n",
              "      <td>28</td>\n",
              "      <td>47</td>\n",
              "      <td>15</td>\n",
              "      <td>53</td>\n",
              "      <td>PM10</td>\n",
              "      <td>SEDANG</td>\n",
              "      <td>DKI5</td>\n",
              "    </tr>\n",
              "    <tr>\n",
              "      <th>20</th>\n",
              "      <td>2015-12-28</td>\n",
              "      <td>55</td>\n",
              "      <td>21</td>\n",
              "      <td>30</td>\n",
              "      <td>45</td>\n",
              "      <td>18</td>\n",
              "      <td>55</td>\n",
              "      <td>PM10</td>\n",
              "      <td>SEDANG</td>\n",
              "      <td>DKI5</td>\n",
              "    </tr>\n",
              "    <tr>\n",
              "      <th>21</th>\n",
              "      <td>2015-12-29</td>\n",
              "      <td>61</td>\n",
              "      <td>22</td>\n",
              "      <td>34</td>\n",
              "      <td>41</td>\n",
              "      <td>17</td>\n",
              "      <td>61</td>\n",
              "      <td>PM10</td>\n",
              "      <td>SEDANG</td>\n",
              "      <td>DKI5</td>\n",
              "    </tr>\n",
              "    <tr>\n",
              "      <th>22</th>\n",
              "      <td>2015-12-30</td>\n",
              "      <td>55</td>\n",
              "      <td>22</td>\n",
              "      <td>24</td>\n",
              "      <td>50</td>\n",
              "      <td>14</td>\n",
              "      <td>55</td>\n",
              "      <td>PM10</td>\n",
              "      <td>SEDANG</td>\n",
              "      <td>DKI1</td>\n",
              "    </tr>\n",
              "    <tr>\n",
              "      <th>23</th>\n",
              "      <td>2015-12-31</td>\n",
              "      <td>43</td>\n",
              "      <td>19</td>\n",
              "      <td>29</td>\n",
              "      <td>51</td>\n",
              "      <td>9</td>\n",
              "      <td>51</td>\n",
              "      <td>O3</td>\n",
              "      <td>SEDANG</td>\n",
              "      <td>DKI2</td>\n",
              "    </tr>\n",
              "  </tbody>\n",
              "</table>\n",
              "</div>\n",
              "      <button class=\"colab-df-convert\" onclick=\"convertToInteractive('df-ff8fae29-9141-443a-aafa-7fa384bc26c7')\"\n",
              "              title=\"Convert this dataframe to an interactive table.\"\n",
              "              style=\"display:none;\">\n",
              "        \n",
              "  <svg xmlns=\"http://www.w3.org/2000/svg\" height=\"24px\"viewBox=\"0 0 24 24\"\n",
              "       width=\"24px\">\n",
              "    <path d=\"M0 0h24v24H0V0z\" fill=\"none\"/>\n",
              "    <path d=\"M18.56 5.44l.94 2.06.94-2.06 2.06-.94-2.06-.94-.94-2.06-.94 2.06-2.06.94zm-11 1L8.5 8.5l.94-2.06 2.06-.94-2.06-.94L8.5 2.5l-.94 2.06-2.06.94zm10 10l.94 2.06.94-2.06 2.06-.94-2.06-.94-.94-2.06-.94 2.06-2.06.94z\"/><path d=\"M17.41 7.96l-1.37-1.37c-.4-.4-.92-.59-1.43-.59-.52 0-1.04.2-1.43.59L10.3 9.45l-7.72 7.72c-.78.78-.78 2.05 0 2.83L4 21.41c.39.39.9.59 1.41.59.51 0 1.02-.2 1.41-.59l7.78-7.78 2.81-2.81c.8-.78.8-2.07 0-2.86zM5.41 20L4 18.59l7.72-7.72 1.47 1.35L5.41 20z\"/>\n",
              "  </svg>\n",
              "      </button>\n",
              "      \n",
              "  <style>\n",
              "    .colab-df-container {\n",
              "      display:flex;\n",
              "      flex-wrap:wrap;\n",
              "      gap: 12px;\n",
              "    }\n",
              "\n",
              "    .colab-df-convert {\n",
              "      background-color: #E8F0FE;\n",
              "      border: none;\n",
              "      border-radius: 50%;\n",
              "      cursor: pointer;\n",
              "      display: none;\n",
              "      fill: #1967D2;\n",
              "      height: 32px;\n",
              "      padding: 0 0 0 0;\n",
              "      width: 32px;\n",
              "    }\n",
              "\n",
              "    .colab-df-convert:hover {\n",
              "      background-color: #E2EBFA;\n",
              "      box-shadow: 0px 1px 2px rgba(60, 64, 67, 0.3), 0px 1px 3px 1px rgba(60, 64, 67, 0.15);\n",
              "      fill: #174EA6;\n",
              "    }\n",
              "\n",
              "    [theme=dark] .colab-df-convert {\n",
              "      background-color: #3B4455;\n",
              "      fill: #D2E3FC;\n",
              "    }\n",
              "\n",
              "    [theme=dark] .colab-df-convert:hover {\n",
              "      background-color: #434B5C;\n",
              "      box-shadow: 0px 1px 3px 1px rgba(0, 0, 0, 0.15);\n",
              "      filter: drop-shadow(0px 1px 2px rgba(0, 0, 0, 0.3));\n",
              "      fill: #FFFFFF;\n",
              "    }\n",
              "  </style>\n",
              "\n",
              "      <script>\n",
              "        const buttonEl =\n",
              "          document.querySelector('#df-ff8fae29-9141-443a-aafa-7fa384bc26c7 button.colab-df-convert');\n",
              "        buttonEl.style.display =\n",
              "          google.colab.kernel.accessAllowed ? 'block' : 'none';\n",
              "\n",
              "        async function convertToInteractive(key) {\n",
              "          const element = document.querySelector('#df-ff8fae29-9141-443a-aafa-7fa384bc26c7');\n",
              "          const dataTable =\n",
              "            await google.colab.kernel.invokeFunction('convertToInteractive',\n",
              "                                                     [key], {});\n",
              "          if (!dataTable) return;\n",
              "\n",
              "          const docLinkHtml = 'Like what you see? Visit the ' +\n",
              "            '<a target=\"_blank\" href=https://colab.research.google.com/notebooks/data_table.ipynb>data table notebook</a>'\n",
              "            + ' to learn more about interactive tables.';\n",
              "          element.innerHTML = '';\n",
              "          dataTable['output_type'] = 'display_data';\n",
              "          await google.colab.output.renderOutput(dataTable, element);\n",
              "          const docLink = document.createElement('div');\n",
              "          docLink.innerHTML = docLinkHtml;\n",
              "          element.appendChild(docLink);\n",
              "        }\n",
              "      </script>\n",
              "    </div>\n",
              "  </div>\n",
              "  "
            ]
          },
          "metadata": {},
          "execution_count": 3
        }
      ]
    },
    {
      "cell_type": "code",
      "source": [
        "import matplotlib.pyplot as plt\n",
        "\n",
        "df.plot(kind='scatter',x='o3', y='max')\n",
        "plt.title('indexs kesejahtraan warga')\n",
        "plt.xlabel('max')\n",
        "plt.ylabel('Indeks')\n",
        "plt.xlim(0, 115)\n",
        "plt.ylim(0, 115)\n",
        "plt.grid(True)\n",
        "plt.show()"
      ],
      "metadata": {
        "colab": {
          "base_uri": "https://localhost:8080/",
          "height": 295
        },
        "id": "sssSpRuqtXe5",
        "outputId": "f4bc1167-a72b-4acf-a3e2-00f24e79e2f4"
      },
      "execution_count": null,
      "outputs": [
        {
          "output_type": "display_data",
          "data": {
            "text/plain": [
              "<Figure size 432x288 with 1 Axes>"
            ],
            "image/png": "[encoded data removed]"
          },
          "metadata": {
            "needs_background": "light"
          }
        }
      ]
    },
    {
      "cell_type": "code",
      "source": [
        "import numpy as np\n",
        "x = np.array(df['o3'])\n",
        "y = np.array(df['max'])\n",
        "\n",
        "print(f'x : {x}')\n",
        "print(f'y : {y}')"
      ],
      "metadata": {
        "colab": {
          "base_uri": "https://localhost:8080/"
        },
        "id": "pdIxV4RCubGx",
        "outputId": "e0782385-84bc-4e34-a472-ad38bb9b8368"
      },
      "execution_count": null,
      "outputs": [
        {
          "output_type": "stream",
          "name": "stdout",
          "text": [
            "x : [111  82  84  79  63  65  85  85  90  40  42  44  24  44  75  97  36  28\n",
            "  31  47  45  41  50  51]\n",
            "y : [111  82  84  79  63  65  85  85  90  40  42  44  39  46  75  97  37  48\n",
            "  41  53  55  61  55  51]\n"
          ]
        }
      ]
    },
    {
      "cell_type": "code",
      "source": [
        "x = x.reshape(-1, 1)\n",
        "x.shape"
      ],
      "metadata": {
        "colab": {
          "base_uri": "https://localhost:8080/"
        },
        "id": "DY1WPGkiu1Ls",
        "outputId": "b171995f-4648-499a-bf04-eec91a86800f"
      },
      "execution_count": null,
      "outputs": [
        {
          "output_type": "execute_result",
          "data": {
            "text/plain": [
              "(24, 1)"
            ]
          },
          "metadata": {},
          "execution_count": 20
        }
      ]
    },
    {
      "cell_type": "code",
      "source": [
        "x"
      ],
      "metadata": {
        "colab": {
          "base_uri": "https://localhost:8080/"
        },
        "id": "2n9bJVWAvEFK",
        "outputId": "e58dfb7d-8945-46bb-9c30-43483f6a3f08"
      },
      "execution_count": null,
      "outputs": [
        {
          "output_type": "execute_result",
          "data": {
            "text/plain": [
              "array([[111],\n",
              "       [ 82],\n",
              "       [ 84],\n",
              "       [ 79],\n",
              "       [ 63],\n",
              "       [ 65],\n",
              "       [ 85],\n",
              "       [ 85],\n",
              "       [ 90],\n",
              "       [ 40],\n",
              "       [ 42],\n",
              "       [ 44],\n",
              "       [ 24],\n",
              "       [ 44],\n",
              "       [ 75],\n",
              "       [ 97],\n",
              "       [ 36],\n",
              "       [ 28],\n",
              "       [ 31],\n",
              "       [ 47],\n",
              "       [ 45],\n",
              "       [ 41],\n",
              "       [ 50],\n",
              "       [ 51]])"
            ]
          },
          "metadata": {},
          "execution_count": 21
        }
      ]
    },
    {
      "cell_type": "code",
      "source": [
        "from sklearn.linear_model import LinearRegression\n",
        "\n",
        "model = LinearRegression()\n",
        "model.fit(x, y)"
      ],
      "metadata": {
        "colab": {
          "base_uri": "https://localhost:8080/"
        },
        "id": "GzTrIHQyvHhk",
        "outputId": "b172570d-d51a-4cc1-ffdf-aa615e99a548"
      },
      "execution_count": null,
      "outputs": [
        {
          "output_type": "execute_result",
          "data": {
            "text/plain": [
              "LinearRegression()"
            ]
          },
          "metadata": {},
          "execution_count": 22
        }
      ]
    },
    {
      "cell_type": "code",
      "source": [
        "\n",
        "x_vis = np.array([0, 115]).reshape(-1, 1)\n",
        "y_vis = model.predict(x_vis )"
      ],
      "metadata": {
        "id": "xMIJmK3evbd2"
      },
      "execution_count": null,
      "outputs": []
    },
    {
      "cell_type": "code",
      "source": [
        "plt.scatter(x, y)\n",
        "plt.plot(x_vis, y_vis, '-r')\n",
        "plt.title('indexs kesejahtraan warga')\n",
        "plt.xlabel('o3')\n",
        "plt.ylabel('Indeks')\n",
        "plt.xlim(0, 110)\n",
        "plt.ylim(0, 110)\n",
        "plt.grid(True)\n",
        "plt.show()"
      ],
      "metadata": {
        "colab": {
          "base_uri": "https://localhost:8080/",
          "height": 295
        },
        "id": "wdDqGOcFviJ6",
        "outputId": "8c1b1a22-bfd2-4e73-e426-5e0602122144"
      },
      "execution_count": null,
      "outputs": [
        {
          "output_type": "display_data",
          "data": {
            "text/plain": [
              "<Figure size 432x288 with 1 Axes>"
            ],
            "image/png": "[encoded data removed]"
          },
          "metadata": {
            "needs_background": "light"
          }
        }
      ]
    },
    {
      "cell_type": "code",
      "source": [
        "print(f'intercept : {model.intercept_}')\n",
        "print(f'slope : {model.coef_}')"
      ],
      "metadata": {
        "colab": {
          "base_uri": "https://localhost:8080/"
        },
        "id": "KJkL_qqf9TTB",
        "outputId": "7b3d5c1e-c601-4986-a91d-90612528f851"
      },
      "execution_count": null,
      "outputs": [
        {
          "output_type": "stream",
          "name": "stdout",
          "text": [
            "intercept : 13.244189474643989\n",
            "slope : [0.84095862]\n"
          ]
        }
      ]
    },
    {
      "cell_type": "code",
      "source": [
        "un= np.array([31, 48, 79, 97, 64]).reshape(-1, 1)\n",
        "un"
      ],
      "metadata": {
        "colab": {
          "base_uri": "https://localhost:8080/"
        },
        "id": "8ZLVkYP_yJGU",
        "outputId": "86dc9bd5-3b19-4005-9a57-9bca52d65429"
      },
      "execution_count": null,
      "outputs": [
        {
          "output_type": "execute_result",
          "data": {
            "text/plain": [
              "array([[31],\n",
              "       [48],\n",
              "       [79],\n",
              "       [97],\n",
              "       [64]])"
            ]
          },
          "metadata": {},
          "execution_count": 33
        }
      ]
    },
    {
      "cell_type": "code",
      "source": [
        "prediksi_indeks = model.predict(un)\n",
        "prediksi_indeks"
      ],
      "metadata": {
        "colab": {
          "base_uri": "https://localhost:8080/"
        },
        "id": "7ulTTzzCykTI",
        "outputId": "6dc96ba4-c8e6-4518-c885-6e8a1173b78e"
      },
      "execution_count": null,
      "outputs": [
        {
          "output_type": "execute_result",
          "data": {
            "text/plain": [
              "array([39.31390666, 53.61020318, 79.67992037, 94.81717551, 67.06554108])"
            ]
          },
          "metadata": {},
          "execution_count": 34
        }
      ]
    },
    {
      "cell_type": "code",
      "source": [
        "for penduduk, index in zip(un, prediksi_indeks):\n",
        "  print(f'lingkungan : {penduduk} prediksi indeks : {index}')"
      ],
      "metadata": {
        "colab": {
          "base_uri": "https://localhost:8080/"
        },
        "id": "K3-EcwOTyrAq",
        "outputId": "385d107d-3e1e-4f13-cf94-e112353379cc"
      },
      "execution_count": null,
      "outputs": [
        {
          "output_type": "stream",
          "name": "stdout",
          "text": [
            "lingkungan : [31] prediksi indeks : 39.31390666079053\n",
            "lingkungan : [48] prediksi indeks : 53.610203182225725\n",
            "lingkungan : [79] prediksi indeks : 79.67992036837227\n",
            "lingkungan : [97] prediksi indeks : 94.81717550871542\n",
            "lingkungan : [64] prediksi indeks : 67.06554108475297\n"
          ]
        }
      ]
    },
    {
      "cell_type": "code",
      "source": [
        "print()\n",
        "import matplotlib.pyplot as plt\n",
        "fig = plt.figure()\n",
        "ax = fig.add_axes([0,0,1,1])\n",
        "jurusan = df [\"o3\"]\n",
        "siswa = df [\"max\"]\n",
        "c = ['red','yellow','blue']\n",
        "plt.title(\"lingkungan\")\n",
        "ax.bar(jurusan,siswa,color=c)\n",
        "plt.show()\n",
        "print()\n",
        "import matplotlib.pyplot as plt\n",
        "fig = plt.figure()\n",
        "ax = fig.add_axes([0,0,1,1])\n",
        "ax.axis('equal')\n",
        "plt.title(\"lingkungan\")\n",
        "jurusan = df [\"o3\"]\n",
        "siswa = df [\"max\"]\n",
        "ax.pie(siswa,labels=jurusan,autopct='%1.2f%%')\n",
        "\n",
        "plt.show()"
      ],
      "metadata": {
        "colab": {
          "base_uri": "https://localhost:8080/",
          "height": 707
        },
        "id": "BGux6LofyuNb",
        "outputId": "272aa74f-1069-4019-c394-e15147e48f36"
      },
      "execution_count": null,
      "outputs": [
        {
          "output_type": "stream",
          "name": "stdout",
          "text": [
            "\n"
          ]
        },
        {
          "output_type": "display_data",
          "data": {
            "text/plain": [
              "<Figure size 432x288 with 1 Axes>"
            ],
            "image/png": "[encoded data removed]"
          },
          "metadata": {
            "needs_background": "light"
          }
        },
        {
          "output_type": "stream",
          "name": "stdout",
          "text": [
            "\n"
          ]
        },
        {
          "output_type": "display_data",
          "data": {
            "text/plain": [
              "<Figure size 432x288 with 1 Axes>"
            ],
            "image/png": "[encoded data removed]"
          },
          "metadata": {}
        }
      ]
    }
  ]
}